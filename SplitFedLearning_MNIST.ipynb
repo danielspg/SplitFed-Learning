{
  "nbformat": 4,
  "nbformat_minor": 0,
  "metadata": {
    "colab": {
      "name": "SplitFedLearning_MNIST.ipynb",
      "provenance": [],
      "collapsed_sections": [],
      "authorship_tag": "ABX9TyM+rYq442+GcHPBAksWut/K"
    },
    "kernelspec": {
      "name": "python3",
      "display_name": "Python 3"
    },
    "language_info": {
      "name": "python"
    }
  },
  "cells": [
    {
      "cell_type": "markdown",
      "metadata": {
        "id": "vf2930_5YeCP"
      },
      "source": [
        "# A SplitFedLearning example based on MNIST Dataset"
      ]
    },
    {
      "cell_type": "code",
      "metadata": {
        "colab": {
          "base_uri": "https://localhost:8080/"
        },
        "id": "5cmULK_BcB4X",
        "outputId": "f55bff3c-0639-49b6-9b2c-a8ea93d2f115"
      },
      "source": [
        "\n",
        "#mounting the drive\n",
        "\n",
        "from google.colab import drive\n",
        "drive.mount('/content/drive')"
      ],
      "execution_count": 1,
      "outputs": [
        {
          "output_type": "stream",
          "name": "stdout",
          "text": [
            "Mounted at /content/drive\n"
          ]
        }
      ]
    },
    {
      "cell_type": "code",
      "metadata": {
        "id": "JLDuCdktcdL9"
      },
      "source": [
        "\n",
        "# me experimenting with the model\n",
        "# me trying the SFL V1\n",
        "# we have just 10 global rounds and only 5 client\n",
        "\n",
        "rounds = 50\n",
        "local_epochs = 1 # This has set to be 1 in the SFLG\n",
        "users = 5 # number of clients 50, \n",
        "\n",
        "lr = 0.001\n",
        "\n",
        "group_client_ordered = True # True means clients are grouped in order -- False means random selection\n",
        "no_of_groups = users  # no. of groups/models in the process --- each group has several clients train sequentially at the server\n"
      ],
      "execution_count": 2,
      "outputs": []
    },
    {
      "cell_type": "code",
      "metadata": {
        "id": "gPjwVKqWcoVz"
      },
      "source": [
        "\n",
        "import os\n",
        "import h5py\n",
        "\n",
        "import struct\n",
        "import pickle\n",
        "import sys\n",
        "\n",
        "import torch\n",
        "import torch.nn as nn\n",
        "import torch.nn.functional as F\n",
        "import torch.optim as optim\n",
        "\n",
        "import time\n",
        "from tqdm import tqdm\n",
        "import numpy as np\n",
        "\n",
        "import pandas\n",
        "from pandas import DataFrame\n",
        "\n",
        "from collections import defaultdict\n",
        "import copy\n"
      ],
      "execution_count": 3,
      "outputs": []
    },
    {
      "cell_type": "code",
      "metadata": {
        "id": "_-Vx5hyocsU7"
      },
      "source": [
        "import torch\n",
        "import torchvision\n",
        "import numpy as np\n",
        "import matplotlib\n",
        "import matplotlib.pyplot as plt\n",
        "import torch.nn as nn\n",
        "import torch.nn.functional as F\n",
        "from torchvision.datasets import MNIST\n",
        "from torchvision.transforms import ToTensor\n",
        "from torchvision.utils import make_grid\n",
        "from torch.utils.data.dataloader import DataLoader\n",
        "from torch.utils.data import random_split\n",
        "from torch.utils.data.sampler import SubsetRandomSampler\n",
        "%matplotlib inline\n",
        "\n",
        "# Use a white background for matplotlib figures\n",
        "matplotlib.rcParams['figure.facecolor'] = '#ffffff'"
      ],
      "execution_count": 4,
      "outputs": []
    },
    {
      "cell_type": "code",
      "metadata": {
        "id": "FFQHhLFOcykw"
      },
      "source": [
        "root_path = '/content/drive/MyDrive/google_MNIST'\n",
        "model_path = '/content/drive/MyDrive/google_MNIST/SplitFedComb_IID_model_%dusers_%dcopy.pth'%(users, no_of_groups)\n",
        "acc_path = '/content/drive/MyDrive/google_MNIST/SplitFedComb_IID_acc_%dusers_%dcopy.hdf5'%(users, no_of_groups)\n",
        "\n",
        "server_model_path = '/content/drive/MyDrive/google_MNIST/SplitFedComb_IID_%dusers_%dcopy.pth'%(users, no_of_groups)\n",
        "client_model_path = '/content/drive/MyDrive/google_MNIST/SplitFedComb_IID__%dusers_%dcopy.pth'%(users, no_of_groups)\n"
      ],
      "execution_count": 5,
      "outputs": []
    },
    {
      "cell_type": "code",
      "metadata": {
        "id": "sc04L3z_da3k",
        "colab": {
          "base_uri": "https://localhost:8080/"
        },
        "outputId": "1740fa7c-33b7-4cb4-8888-27f098154139"
      },
      "source": [
        "dataset = MNIST(root = root_path , download = False , transform = ToTensor())"
      ],
      "execution_count": 6,
      "outputs": [
        {
          "output_type": "stream",
          "name": "stderr",
          "text": [
            "/usr/local/lib/python3.7/dist-packages/torchvision/datasets/mnist.py:498: UserWarning: The given NumPy array is not writeable, and PyTorch does not support non-writeable tensors. This means you can write to the underlying (supposedly non-writeable) NumPy array using the tensor. You may want to copy the array to protect its data or make it writeable before converting it to a tensor. This type of warning will be suppressed for the rest of this program. (Triggered internally at  /pytorch/torch/csrc/utils/tensor_numpy.cpp:180.)\n",
            "  return torch.from_numpy(parsed.astype(m[2], copy=False)).view(*s)\n"
          ]
        }
      ]
    },
    {
      "cell_type": "code",
      "metadata": {
        "id": "zwQn_waGdscj"
      },
      "source": [
        "from torch.utils.data import Dataset, DataLoader\n",
        "from torch.optim import Adam"
      ],
      "execution_count": 7,
      "outputs": []
    },
    {
      "cell_type": "code",
      "metadata": {
        "colab": {
          "base_uri": "https://localhost:8080/"
        },
        "id": "SO3vibuad5bi",
        "outputId": "2ce48c96-d047-4aee-aa6e-c69b23a8ae4d"
      },
      "source": [
        "device = torch.device(\"cuda:0\" if torch.cuda.is_available() else \"cpu\")\n",
        "print(device)"
      ],
      "execution_count": 8,
      "outputs": [
        {
          "output_type": "stream",
          "name": "stdout",
          "text": [
            "cpu\n"
          ]
        }
      ]
    },
    {
      "cell_type": "code",
      "metadata": {
        "colab": {
          "base_uri": "https://localhost:8080/"
        },
        "id": "IKhf5aWgd7zp",
        "outputId": "b519b5b0-9e4a-4cff-963a-353720b44be6"
      },
      "source": [
        "print(len(dataset))"
      ],
      "execution_count": 9,
      "outputs": [
        {
          "output_type": "stream",
          "name": "stdout",
          "text": [
            "60000\n"
          ]
        }
      ]
    },
    {
      "cell_type": "markdown",
      "metadata": {
        "id": "EXPVN3PqCFHm"
      },
      "source": [
        "# experimenting with mnist\n"
      ]
    },
    {
      "cell_type": "code",
      "metadata": {
        "colab": {
          "base_uri": "https://localhost:8080/"
        },
        "id": "OlkFuTbsCE_Z",
        "outputId": "ff4e17a8-5aec-487c-da10-42f32e7462f6"
      },
      "source": [
        "print(dataset)"
      ],
      "execution_count": null,
      "outputs": [
        {
          "output_type": "stream",
          "text": [
            "Dataset MNIST\n",
            "    Number of datapoints: 60000\n",
            "    Root location: /content/drive/MyDrive/google_MNIST\n",
            "    Split: Train\n",
            "    StandardTransform\n",
            "Transform: ToTensor()\n"
          ],
          "name": "stdout"
        }
      ]
    },
    {
      "cell_type": "code",
      "metadata": {
        "colab": {
          "base_uri": "https://localhost:8080/"
        },
        "id": "PPGX_tgXCE0u",
        "outputId": "07dddc8b-4954-4407-f0b5-109b29ee0d46"
      },
      "source": [
        "image, label = dataset[0]\n",
        "print(label)"
      ],
      "execution_count": null,
      "outputs": [
        {
          "output_type": "stream",
          "text": [
            "5\n"
          ],
          "name": "stdout"
        }
      ]
    },
    {
      "cell_type": "code",
      "metadata": {
        "colab": {
          "base_uri": "https://localhost:8080/",
          "height": 282
        },
        "id": "UG-dB5zHCEoY",
        "outputId": "776ebae1-4be3-4a3b-a809-671b71808143"
      },
      "source": [
        "image, label = dataset[2]\n",
        "# plt.imshow(image.permute(1,2,0), cmap='gray')\n",
        "\n",
        "plt.imshow(image.reshape(28,28), cmap=\"gray\")\n",
        "\n",
        "print('Label:', label)"
      ],
      "execution_count": null,
      "outputs": [
        {
          "output_type": "stream",
          "text": [
            "Label: 4\n"
          ],
          "name": "stdout"
        },
        {
          "output_type": "display_data",
          "data": {
            "image/png": "[encoded data removed]",
            "text/plain": [
              "<Figure size 432x288 with 1 Axes>"
            ]
          },
          "metadata": {
            "tags": []
          }
        }
      ]
    },
    {
      "cell_type": "code",
      "metadata": {
        "id": "dGBUvOW_CEU8"
      },
      "source": [
        ""
      ],
      "execution_count": null,
      "outputs": []
    },
    {
      "cell_type": "code",
      "metadata": {
        "id": "d590gpV_iCQ-"
      },
      "source": [
        "\n",
        "def split_indices( n , val_pct):\n",
        "    # determining the size of the validation data\n",
        "    n_val = int( n * val_pct)\n",
        "    \n",
        "    #creating the random permutaio of n numbers\n",
        "    \n",
        "    idxs = np.random.permutation(n)\n",
        "    \n",
        "    # we wil use the first n_val indices for our validation set\n",
        "    \n",
        "    return idxs[n_val : ] , idxs[: n_val]"
      ],
      "execution_count": null,
      "outputs": []
    },
    {
      "cell_type": "code",
      "metadata": {
        "id": "z81Gnfc-iGy0"
      },
      "source": [
        "train_indices , val_indices = split_indices(len(dataset) , 0.2 )\n",
        "\n",
        "# alternative syntax \n",
        "#train_indices , val_indices = split_indices(len(dataset) ,  val_pct = 0.2 )\n"
      ],
      "execution_count": null,
      "outputs": []
    },
    {
      "cell_type": "code",
      "metadata": {
        "colab": {
          "base_uri": "https://localhost:8080/"
        },
        "id": "XH4vvLtPiK3r",
        "outputId": "5c1eb40f-8546-4e14-e806-37d8bc4849e8"
      },
      "source": [
        "print(len(train_indices),\" \", len(val_indices))"
      ],
      "execution_count": null,
      "outputs": [
        {
          "output_type": "stream",
          "text": [
            "48000   12000\n"
          ],
          "name": "stdout"
        }
      ]
    },
    {
      "cell_type": "code",
      "metadata": {
        "colab": {
          "base_uri": "https://localhost:8080/"
        },
        "id": "5SXCIb7xi5Pl",
        "outputId": "5f2dd521-239a-4663-92ed-441ecbd17e19"
      },
      "source": [
        "print(train_indices)"
      ],
      "execution_count": null,
      "outputs": [
        {
          "output_type": "stream",
          "text": [
            "[47888 54266 59255 ... 49918  9477 46605]\n"
          ],
          "name": "stdout"
        }
      ]
    },
    {
      "cell_type": "code",
      "metadata": {
        "colab": {
          "base_uri": "https://localhost:8080/"
        },
        "id": "cZ5peQEbjj1L",
        "outputId": "f687040b-a852-49a4-ea6b-85bafd397239"
      },
      "source": [
        "indices_per_client = int (len(train_indices)/users)\n",
        "\n",
        "print(indices_per_client)"
      ],
      "execution_count": null,
      "outputs": [
        {
          "output_type": "stream",
          "text": [
            "9600\n"
          ],
          "name": "stdout"
        }
      ]
    },
    {
      "cell_type": "code",
      "metadata": {
        "id": "emvgjgAIkElZ"
      },
      "source": [
        "batch_size = 100\n",
        "\n",
        "train_loaders = []\n",
        "\n",
        "train_datasets = []\n",
        "\n",
        "\n",
        "for i in range(users):\n",
        "  start= indices_per_client*i\n",
        "  end= indices_per_client * (i+1)\n",
        "  \n",
        "  #print((train_indices[start:end]))\n",
        "\n",
        "  \n",
        "  train_datasets.append(list(train_indices[start:end]))\n",
        "\n",
        "  #print(len(train_dataset))\n",
        "\n",
        "  train_sampler = SubsetRandomSampler(train_indices[start : end])\n",
        "  # train_loaders= DataLoader(dataset, batch_size, sampler= train_sampler) \n",
        "  train_loaders.append(DataLoader(dataset, batch_size=batch_size,sampler=train_sampler))\n",
        "\n",
        "  \n",
        "  # print(start, end)\n",
        "\n",
        "\n",
        "#print(len(train_loaders))\n",
        "\n",
        "# print(len(train_dataset[0]))\n",
        "# print(train_dataset[1])\n",
        "\n",
        "\n",
        "val_sampler = SubsetRandomSampler(val_indices)\n",
        "#valid_dl in MNIST\n",
        "test_loader = DataLoader(dataset, batch_size=batch_size, sampler=val_sampler) \n",
        "\n"
      ],
      "execution_count": null,
      "outputs": []
    },
    {
      "cell_type": "markdown",
      "metadata": {
        "id": "HvKyQgDLraOj"
      },
      "source": [
        "Grouping of the clients"
      ]
    },
    {
      "cell_type": "code",
      "metadata": {
        "colab": {
          "base_uri": "https://localhost:8080/"
        },
        "id": "19BDrcV_orTz",
        "outputId": "f6fc1ef1-524b-4592-a795-9e69bda6c258"
      },
      "source": [
        "group_client_collect_dict = defaultdict(list)\n",
        "# ordered division of clients in the group: group1 -- client0 to clientx\n",
        "if group_client_ordered:\n",
        "    #initialize\n",
        "    start = 0\n",
        "    step = int(users/no_of_groups)\n",
        "    \n",
        "    diff = users - step* no_of_groups\n",
        "    #print(diff)\n",
        "    \n",
        "    if diff != 0:\n",
        "        end = step + 1\n",
        "        diff -= 1\n",
        "    else:\n",
        "        end = step\n",
        "        \n",
        "    for n in range(no_of_groups):\n",
        "        \n",
        "        clients_list = [i for i in range(start, end)]  \n",
        "        group_client_collect_dict[n]= clients_list\n",
        "        \n",
        "        #print(\"Start, end:\",start, end)\n",
        "        \n",
        "        if end+step <= users:\n",
        "            start = copy.deepcopy(end)  \n",
        "            if diff != 0:\n",
        "                end += step + 1\n",
        "                diff -= 1\n",
        "            else:\n",
        "                end += step\n",
        "                \n",
        "        else:\n",
        "            start = copy.deepcopy(end)\n",
        "            end = users\n",
        "    \n",
        "else:\n",
        "    print(\"program is currently in group_client_ordered mode!\")\n",
        "    \n",
        "\n",
        "    \n",
        "    \n",
        "print(group_client_collect_dict)"
      ],
      "execution_count": null,
      "outputs": [
        {
          "output_type": "stream",
          "text": [
            "defaultdict(<class 'list'>, {0: [0], 1: [1], 2: [2], 3: [3], 4: [4]})\n"
          ],
          "name": "stdout"
        }
      ]
    },
    {
      "cell_type": "code",
      "metadata": {
        "colab": {
          "base_uri": "https://localhost:8080/"
        },
        "id": "9Qbgkt5CrXIK",
        "outputId": "464b6d7f-97b9-41e7-b257-6a093486f1e4"
      },
      "source": [
        "\n",
        "#checking the batch size and dimension\n",
        "\n",
        "x_train, y_train = next(iter(train_loaders[0]))\n",
        "print(x_train.size())\n",
        "print(y_train.size())"
      ],
      "execution_count": null,
      "outputs": [
        {
          "output_type": "stream",
          "text": [
            "torch.Size([100, 1, 28, 28])\n",
            "torch.Size([100])\n"
          ],
          "name": "stdout"
        }
      ]
    },
    {
      "cell_type": "code",
      "metadata": {
        "colab": {
          "base_uri": "https://localhost:8080/"
        },
        "id": "bFqlfApgsPBG",
        "outputId": "2b9ea0eb-1e02-4e68-9cb3-024b40e1fec1"
      },
      "source": [
        "#checking sum of all batch \n",
        "\n",
        "# 24000 datasize per client, when client=2, batchsize=100, total batches = 24000/100=240\n",
        "# testing datast = 12000, batchsize=100 , total testing batches =12000/100 =120\n",
        "\n",
        "\n",
        "train_total_batch = len(train_loaders[0])\n",
        "print(train_total_batch)\n",
        "test_batch = len(test_loader)\n",
        "print(test_batch)"
      ],
      "execution_count": null,
      "outputs": [
        {
          "output_type": "stream",
          "text": [
            "96\n",
            "120\n"
          ],
          "name": "stdout"
        }
      ]
    },
    {
      "cell_type": "code",
      "metadata": {
        "id": "chqYUPmAscpp"
      },
      "source": [
        "# Dataset size for the serverside -- group wise averaging\n",
        "\n",
        "datasetsize_server = []\n",
        "len_dataset = 0\n",
        "for g in range(no_of_groups):\n",
        "    for idx in group_client_collect_dict[g]:\n",
        "        len_dataset += len(train_datasets[idx])\n",
        "    datasetsize_server.append(len_dataset)\n",
        "    len_dataset = 0\n",
        "\n",
        "\n",
        "# Dataset size for the client-size -- client wise averaging   \n",
        "datasetsize_client = []\n",
        "for i in range(users):\n",
        "  datasetsize_client.append(len(train_datasets[i]))"
      ],
      "execution_count": null,
      "outputs": []
    },
    {
      "cell_type": "code",
      "metadata": {
        "colab": {
          "base_uri": "https://localhost:8080/"
        },
        "id": "LVNvNyvks5eT",
        "outputId": "7011189f-357d-42db-f236-5ba77dbfaec6"
      },
      "source": [
        "print(datasetsize_client)"
      ],
      "execution_count": null,
      "outputs": [
        {
          "output_type": "stream",
          "text": [
            "[9600, 9600, 9600, 9600, 9600]\n"
          ],
          "name": "stdout"
        }
      ]
    },
    {
      "cell_type": "markdown",
      "metadata": {
        "id": "X9aakla5t2lt"
      },
      "source": [
        "# main model"
      ]
    },
    {
      "cell_type": "code",
      "metadata": {
        "id": "t0nnXvget6ns"
      },
      "source": [
        "class MnistNet(nn.Module):\n",
        "    def __init__(self, in_size, hidden_size, out_size):\n",
        "        super().__init__()\n",
        "        #hidden layer\n",
        "        self.linear1 = nn.Linear(in_size, hidden_size)\n",
        "        \n",
        "        self.linear3 = nn.Linear(hidden_size, hidden_size)\n",
        "\n",
        "        self.linear4 = nn.Linear(hidden_size, hidden_size)\n",
        "    \n",
        "\n",
        "\n",
        "        #out layer\n",
        "        self.linear2 = nn.Linear(hidden_size, out_size)\n",
        "\n",
        "\n",
        "    \n",
        "    def forward(self,xb):\n",
        "        # flatten the tensors to size 100x784\n",
        "        xb = xb.view(xb.size(0),-1)\n",
        "        # get intermediate outputs from the hidden layer\n",
        "        \n",
        "        out = self.linear1(xb)\n",
        "        \n",
        "        # apply activation function ReLU\n",
        "        \n",
        "        out = F.relu(out)\n",
        "\n",
        "\n",
        "        out = self.linear3(out)\n",
        "\n",
        "        out = F.relu(out)\n",
        "\n",
        "\n",
        "        out = self.linear4(out)\n",
        "        out = F.relu(out) \n",
        "\n",
        "        # get the prediction using the output layer\n",
        "        \n",
        "        out = self.linear2(out)\n",
        "        \n",
        "        return out\n",
        "        \n",
        "        "
      ],
      "execution_count": null,
      "outputs": []
    },
    {
      "cell_type": "code",
      "metadata": {
        "id": "aHVW2bQGuz0u"
      },
      "source": [
        "input_size = 784\n",
        "num_classes = 10\n",
        "\n",
        "#model in MNIST\n",
        "mnist_net = MnistNet(input_size, hidden_size = 32, out_size = num_classes )"
      ],
      "execution_count": null,
      "outputs": []
    },
    {
      "cell_type": "code",
      "metadata": {
        "colab": {
          "base_uri": "https://localhost:8080/"
        },
        "id": "0hZwbcYNu9eW",
        "outputId": "f53eb4fe-7661-43b4-8c3d-245b88c733cf"
      },
      "source": [
        "mnist_net.to(device)"
      ],
      "execution_count": null,
      "outputs": [
        {
          "output_type": "execute_result",
          "data": {
            "text/plain": [
              "MnistNet(\n",
              "  (linear1): Linear(in_features=784, out_features=32, bias=True)\n",
              "  (linear3): Linear(in_features=32, out_features=32, bias=True)\n",
              "  (linear4): Linear(in_features=32, out_features=32, bias=True)\n",
              "  (linear2): Linear(in_features=32, out_features=10, bias=True)\n",
              ")"
            ]
          },
          "metadata": {
            "tags": []
          },
          "execution_count": 29
        }
      ]
    },
    {
      "cell_type": "markdown",
      "metadata": {
        "id": "yQJckrWSvYdI"
      },
      "source": [
        "# Mnist_client"
      ]
    },
    {
      "cell_type": "code",
      "metadata": {
        "id": "ADV3u8_4vzkp"
      },
      "source": [
        "class MnistClient(nn.Module):\n",
        "    def __init__(self, in_size, hidden_size, out_size):\n",
        "        super().__init__()\n",
        "        #hidden layer\n",
        "        self.linear1 = nn.Linear(in_size, hidden_size)\n",
        "        \n",
        "        self.linear3 = nn.Linear(hidden_size, hidden_size)\n",
        "\n",
        "        # self.linear4 = nn.Linear(hidden_size, hidden_size)\n",
        "    \n",
        "        # #out layer\n",
        "        # self.linear2 = nn.Linear(hidden_size, out_size)\n",
        "\n",
        "\n",
        "    \n",
        "    def forward(self,xb):\n",
        "        # flatten the tensors to size 100x784\n",
        "        xb = xb.view(xb.size(0),-1)\n",
        "        # get intermediate outputs from the hidden layer\n",
        "        \n",
        "        out = self.linear1(xb)\n",
        "        \n",
        "        # apply activation function ReLU\n",
        "        \n",
        "        out = F.relu(out)\n",
        "\n",
        "\n",
        "        out = self.linear3(out)\n",
        "\n",
        "        out = F.relu(out)\n",
        "\n",
        "\n",
        "        # out = self.linear4(out)\n",
        "        # out = F.relu(out) \n",
        "\n",
        "        # # get the prediction using the output layer\n",
        "        \n",
        "        # out = self.linear2(out)\n",
        "        \n",
        "        return out\n",
        "        \n",
        "        "
      ],
      "execution_count": null,
      "outputs": []
    },
    {
      "cell_type": "code",
      "metadata": {
        "colab": {
          "base_uri": "https://localhost:8080/"
        },
        "id": "dQbF7K6EwySa",
        "outputId": "7b52c4a9-5fa8-4f09-a38d-0a76358be70e"
      },
      "source": [
        "input_size = 784\n",
        "num_classes = 10\n",
        "\n",
        "\n",
        "mnist_client = MnistClient(input_size, hidden_size = 32, out_size = num_classes )\n",
        "mnist_client.to(device)"
      ],
      "execution_count": null,
      "outputs": [
        {
          "output_type": "execute_result",
          "data": {
            "text/plain": [
              "MnistClient(\n",
              "  (linear1): Linear(in_features=784, out_features=32, bias=True)\n",
              "  (linear3): Linear(in_features=32, out_features=32, bias=True)\n",
              ")"
            ]
          },
          "metadata": {
            "tags": []
          },
          "execution_count": 31
        }
      ]
    },
    {
      "cell_type": "markdown",
      "metadata": {
        "id": "kjaCQ2z-xKye"
      },
      "source": [
        "# mnist server"
      ]
    },
    {
      "cell_type": "code",
      "metadata": {
        "id": "nq1sO7NRxv6K"
      },
      "source": [
        "class MnistServer(nn.Module):\n",
        "    def __init__(self, in_size, hidden_size, out_size):\n",
        "        super().__init__()\n",
        "        #hidden layer\n",
        "        # self.linear1 = nn.Linear(in_size, hidden_size)\n",
        "        \n",
        "        # self.linear3 = nn.Linear(hidden_size, hidden_size)\n",
        "\n",
        "        self.linear4 = nn.Linear(hidden_size, hidden_size)\n",
        "    \n",
        "        #out layer\n",
        "        self.linear2 = nn.Linear(hidden_size, out_size)\n",
        "\n",
        "\n",
        "    \n",
        "    def forward(self,xb):\n",
        "        # flatten the tensors to size 100x784\n",
        "        # xb = xb.view(xb.size(0),-1)\n",
        "        # # get intermediate outputs from the hidden layer\n",
        "        \n",
        "        # out = self.linear1(xb)\n",
        "        \n",
        "        # # apply activation function ReLU\n",
        "        \n",
        "        # out = F.relu(out)\n",
        "\n",
        "\n",
        "        # out = self.linear3(out)\n",
        "\n",
        "        # out = F.relu(out)\n",
        "\n",
        "\n",
        "        out = self.linear4(xb)\n",
        "        out = F.relu(out) \n",
        "\n",
        "        # get the prediction using the output layer\n",
        "        \n",
        "        out = self.linear2(out)\n",
        "        \n",
        "        return out\n",
        "        \n",
        "        "
      ],
      "execution_count": null,
      "outputs": []
    },
    {
      "cell_type": "code",
      "metadata": {
        "colab": {
          "base_uri": "https://localhost:8080/"
        },
        "id": "0it6kn_ux7hL",
        "outputId": "d9f30790-69a6-48ac-a170-44891ea54b67"
      },
      "source": [
        "input_size = 784\n",
        "num_classes = 10\n",
        "\n",
        "\n",
        "\n",
        "mnist_server= MnistServer(input_size, hidden_size = 32, out_size = num_classes)\n",
        "mnist_server.to(device)"
      ],
      "execution_count": null,
      "outputs": [
        {
          "output_type": "execute_result",
          "data": {
            "text/plain": [
              "MnistServer(\n",
              "  (linear4): Linear(in_features=32, out_features=32, bias=True)\n",
              "  (linear2): Linear(in_features=32, out_features=10, bias=True)\n",
              ")"
            ]
          },
          "metadata": {
            "tags": []
          },
          "execution_count": 33
        }
      ]
    },
    {
      "cell_type": "markdown",
      "metadata": {
        "id": "ZAZ7_m92yA96"
      },
      "source": [
        "# variable"
      ]
    },
    {
      "cell_type": "code",
      "metadata": {
        "id": "u0DjmJWiNf4R"
      },
      "source": [
        "clientsoclist = []\n",
        "train_total_batch = []\n",
        "\n",
        "criterion = nn.CrossEntropyLoss()\n",
        "train_acc = []\n",
        "val_acc = []\n",
        "train_lo = []\n",
        "val_lo = []\n",
        "train_acc_average=[]\n",
        "\n",
        "optimizer = Adam(mnist_net.parameters(), lr=lr)\n",
        "optimizer_client = Adam(mnist_client.parameters(), lr=lr)\n",
        "optimizer_server = Adam(mnist_server.parameters(), lr=lr)\n",
        "\n",
        "weights_server_list_group = []\n",
        "weights_client_list_group = []"
      ],
      "execution_count": null,
      "outputs": []
    },
    {
      "cell_type": "code",
      "metadata": {
        "id": "TDV1csgDyR7-"
      },
      "source": [
        "\n"
      ],
      "execution_count": null,
      "outputs": []
    },
    {
      "cell_type": "markdown",
      "metadata": {
        "id": "WeXbGsyTNf4g"
      },
      "source": [
        "## Comunication overhead"
      ]
    },
    {
      "cell_type": "code",
      "metadata": {
        "id": "wzCCijmeNf4k"
      },
      "source": [
        "total_sendsize_list = []\n",
        "total_receivesize_list = []\n",
        "\n",
        "client_sendsize_list = [[] for i in range(users)]\n",
        "client_receivesize_list = [[] for i in range(users)]\n",
        "\n",
        "train_sendsize_list = [] \n",
        "train_receivesize_list = []"
      ],
      "execution_count": null,
      "outputs": []
    },
    {
      "cell_type": "code",
      "metadata": {
        "id": "CXotuNH9zIGK"
      },
      "source": [
        ""
      ],
      "execution_count": null,
      "outputs": []
    },
    {
      "cell_type": "code",
      "metadata": {
        "id": "wb8ACDdaNf5J"
      },
      "source": [
        "import copy\n",
        "\n",
        "def average_weights(w, datasize):\n",
        "    \"\"\"\n",
        "    Returns the average of the weights.\n",
        "    \"\"\"\n",
        "        \n",
        "    for i, data in enumerate(datasize):\n",
        "        for key in w[i].keys():\n",
        "            w[i][key] *= float(data)\n",
        "    \n",
        "    w_avg = copy.deepcopy(w[0])\n",
        "   \n",
        "    for key in w_avg.keys():\n",
        "        for i in range(1, len(w)):\n",
        "            w_avg[key] += w[i][key]\n",
        "        w_avg[key] = torch.div(w_avg[key], float(sum(datasize)))\n",
        "\n",
        "\n",
        "    return w_avg"
      ],
      "execution_count": null,
      "outputs": []
    },
    {
      "cell_type": "code",
      "metadata": {
        "id": "jejizmtKzKrq"
      },
      "source": [
        ""
      ],
      "execution_count": null,
      "outputs": []
    },
    {
      "cell_type": "markdown",
      "metadata": {
        "id": "RgZOK-7-Nf5j"
      },
      "source": [
        "## Receive users before training"
      ]
    },
    {
      "cell_type": "code",
      "metadata": {
        "id": "gMHlp78uzNSJ"
      },
      "source": [
        ""
      ],
      "execution_count": null,
      "outputs": []
    },
    {
      "cell_type": "code",
      "metadata": {
        "id": "Lzf3Vw4cNf5v",
        "colab": {
          "base_uri": "https://localhost:8080/"
        },
        "outputId": "ff9ce251-cdcb-4963-8345-754f8b67d92f"
      },
      "source": [
        "start_time = time.time()    # store start time\n",
        "print(\"timmer start!\")\n",
        "# train()"
      ],
      "execution_count": null,
      "outputs": [
        {
          "output_type": "stream",
          "text": [
            "timmer start!\n"
          ],
          "name": "stdout"
        }
      ]
    },
    {
      "cell_type": "markdown",
      "metadata": {
        "id": "SQl1dPY_zPrg"
      },
      "source": [
        "# train"
      ]
    },
    {
      "cell_type": "code",
      "metadata": {
        "id": "rHnSZHV2zTkn"
      },
      "source": [
        ""
      ],
      "execution_count": null,
      "outputs": []
    },
    {
      "cell_type": "code",
      "metadata": {
        "id": "r52xEPCWNf6E",
        "colab": {
          "base_uri": "https://localhost:8080/"
        },
        "outputId": "fcc3f4d4-c4df-40ce-e545-4a550cf8d0e8"
      },
      "source": [
        "group_client_weights_collect = []\n",
        "\n",
        "# global weights at first\n",
        "global_client_weights = copy.deepcopy(mnist_client.state_dict())\n",
        "global_server_weights = copy.deepcopy(mnist_server.state_dict())\n",
        "\n",
        "for r in range(rounds): \n",
        "    # initialize the weights of the model for this round\n",
        "    round_client_weights = copy.deepcopy(global_client_weights)\n",
        "    \n",
        "    round_server_weights = copy.deepcopy(global_server_weights)  \n",
        "    # we will run by groups ----\n",
        "    for g in range(no_of_groups):\n",
        "        # for each user in the group g\n",
        "        #group_client_weights = copy.deepcopy(round_client_weights)\n",
        "        group_server_weights = copy.deepcopy(round_server_weights)\n",
        "        \n",
        "        for u in group_client_collect_dict[g]:\n",
        "            # model for user u\n",
        "            #print(\"User:\", u)\n",
        "            \n",
        "            # client has the same initial state for the group\n",
        "            mnist_client.load_state_dict(round_client_weights)\n",
        "            \n",
        "            # server model state changes with clients\n",
        "            mnist_server.load_state_dict(group_server_weights)\n",
        "\n",
        "            for local_epoch in range(local_epochs):\n",
        "\n",
        "                for data in tqdm(train_loaders[u], ncols=100, desc='Round'+str(r+1)+': User'+str(u)+'_'+str(local_epoch+1)):\n",
        "                    # get the inputs; data is a list of [inputs, labels]\n",
        "                    inputs, labels = data\n",
        "                    inputs = inputs.to(device)\n",
        "                    labels = labels.clone().detach().long().to(device)\n",
        "\n",
        "                    #------------ client forward training -----------\n",
        "                    optimizer_client.zero_grad()\n",
        "                    output_client = mnist_client(inputs)\n",
        "                    client_output = output_client.clone().detach().requires_grad_(True)\n",
        "\n",
        "                    # ---------- server forward/backward training ------------\n",
        "                    optimizer_server.zero_grad()\n",
        "                    output = mnist_server(client_output)\n",
        "                    loss = criterion(output, labels)\n",
        "                    loss.backward()\n",
        "                    optimizer_server.step()\n",
        "                    client_grad = client_output.grad.clone().detach()\n",
        "\n",
        "                    # ----------- client backward training ------------\n",
        "                    output_client.backward(client_grad)\n",
        "                    optimizer_client.step()\n",
        "            \n",
        "\n",
        "\n",
        "            # going for next user in the same group\n",
        "            client_weights = copy.deepcopy(mnist_client.state_dict())\n",
        "            group_client_weights_collect.append(client_weights) \n",
        "            \n",
        "            group_server_weights = copy.deepcopy(mnist_server.state_dict())\n",
        "            \n",
        "            \n",
        "        \n",
        "        # Now going for the different group\n",
        "        # save the weights of the current model -- current group\n",
        "        \n",
        "        weights_server_list_group.append(group_server_weights)\n",
        "        \n",
        "        \n",
        "    # Completion for all groups\n",
        "    # average\n",
        "    global_client_weights = average_weights(group_client_weights_collect, datasetsize_client)\n",
        "    \n",
        "    global_server_weights = average_weights(weights_server_list_group, datasetsize_server)\n",
        "    \n",
        "    weights_server_list_group = []\n",
        "    group_client_weights_collect = []\n",
        "        \n",
        "        \n",
        "    #==============================================================================================    \n",
        "    \n",
        "    \n",
        "    #================================================================================================================\n",
        "    # Accuracy check at each round (this is for the gloabl model --- not local model) -------------\n",
        "    # This is s result for the global model at each round --------\n",
        "    mnist_client.load_state_dict(global_client_weights)\n",
        "    mnist_server.load_state_dict(global_server_weights)\n",
        "    mnist_client.eval()\n",
        "    mnist_server.eval()\n",
        "    \n",
        "    # train acc for each client's training dataset\n",
        "    # train acc\n",
        "    with torch.no_grad():\n",
        "        for u in range(users):\n",
        "            corr_num = 0\n",
        "            total_num = 0\n",
        "            train_loss = 0.0\n",
        "            for j, trn in enumerate(train_loaders[u]):\n",
        "                trn_x, trn_label = trn\n",
        "                trn_x = trn_x.to(device)\n",
        "                trn_label = trn_label.clone().detach().long().to(device)\n",
        "\n",
        "                trn_output = mnist_client(trn_x)\n",
        "                trn_output = mnist_server(trn_output)\n",
        "                loss = criterion(trn_output, trn_label)\n",
        "                train_loss += loss.item()\n",
        "                model_label = trn_output.argmax(dim=1)\n",
        "                corr = trn_label[trn_label == model_label].size(0)\n",
        "                corr_num += corr\n",
        "                total_num += trn_label.size(0)\n",
        "            train_accuracy = corr_num / total_num * 100\n",
        "            r_train_loss = train_loss / len(train_loaders[u])\n",
        "            print(\"client {}: rounds {}'s train_acc: {:.2f}%, train_loss: {:.4f}\".format(u, r + 1, train_accuracy, r_train_loss))\n",
        "            train_acc.append(train_accuracy)\n",
        "        avg_acc = sum(train_acc)/len(train_acc)\n",
        "        print(\"Train_average accuracy:\", avg_acc)\n",
        "        train_acc_average.append(avg_acc)\n",
        "        train_acc = []\n",
        "    # test acc\n",
        "    with torch.no_grad():\n",
        "        corr_num = 0\n",
        "        total_num = 0\n",
        "        val_loss = 0.0\n",
        "        for j, val in enumerate(test_loader):\n",
        "            val_x, val_label = val\n",
        "            val_x = val_x.to(device)\n",
        "            val_label = val_label.clone().detach().long().to(device)\n",
        "\n",
        "            val_output = mnist_client(val_x)\n",
        "            val_output = mnist_server(val_output)\n",
        "            loss = criterion(val_output, val_label)\n",
        "            val_loss += loss.item()\n",
        "            model_label = val_output.argmax(dim=1)\n",
        "            corr = val_label[val_label == model_label].size(0)\n",
        "            corr_num += corr\n",
        "            total_num += val_label.size(0)\n",
        "        test_accuracy = corr_num / total_num * 100\n",
        "        test_loss = val_loss / len(test_loader)\n",
        "        print(\"rounds {}'s test_acc: {:.2f}%, test_loss: {:.4f}\".format(r + 1, test_accuracy, test_loss))\n",
        "        val_acc.append(test_accuracy)\n",
        "\n",
        "end_time = time.time()  # store end time\n",
        "print(\"TrainingTime: {} sec\".format(end_time - start_time))"
      ],
      "execution_count": null,
      "outputs": [
        {
          "output_type": "stream",
          "text": [
            "Round1: User0_1: 100%|██████████████████████████████████████████████| 96/96 [00:01<00:00, 83.05it/s]\n",
            "Round1: User1_1: 100%|██████████████████████████████████████████████| 96/96 [00:01<00:00, 85.22it/s]\n",
            "Round1: User2_1: 100%|██████████████████████████████████████████████| 96/96 [00:01<00:00, 94.46it/s]\n",
            "Round1: User3_1: 100%|██████████████████████████████████████████████| 96/96 [00:00<00:00, 97.34it/s]\n",
            "Round1: User4_1: 100%|██████████████████████████████████████████████| 96/96 [00:01<00:00, 95.15it/s]\n"
          ],
          "name": "stderr"
        },
        {
          "output_type": "stream",
          "text": [
            "client 0: rounds 1's train_acc: 77.67%, train_loss: 0.9378\n",
            "client 1: rounds 1's train_acc: 78.07%, train_loss: 0.9403\n",
            "client 2: rounds 1's train_acc: 78.00%, train_loss: 0.9446\n",
            "client 3: rounds 1's train_acc: 77.06%, train_loss: 0.9574\n",
            "client 4: rounds 1's train_acc: 77.56%, train_loss: 0.9396\n",
            "Train_average accuracy: 77.67291666666667\n"
          ],
          "name": "stdout"
        },
        {
          "output_type": "stream",
          "text": [
            "Round2: User0_1:  10%|████▊                                         | 10/96 [00:00<00:00, 95.58it/s]"
          ],
          "name": "stderr"
        },
        {
          "output_type": "stream",
          "text": [
            "rounds 1's test_acc: 78.17%, test_loss: 0.9473\n"
          ],
          "name": "stdout"
        },
        {
          "output_type": "stream",
          "text": [
            "Round2: User0_1: 100%|██████████████████████████████████████████████| 96/96 [00:00<00:00, 97.73it/s]\n",
            "Round2: User1_1: 100%|██████████████████████████████████████████████| 96/96 [00:01<00:00, 94.21it/s]\n",
            "Round2: User2_1: 100%|██████████████████████████████████████████████| 96/96 [00:01<00:00, 86.94it/s]\n",
            "Round2: User3_1: 100%|██████████████████████████████████████████████| 96/96 [00:00<00:00, 99.50it/s]\n",
            "Round2: User4_1: 100%|██████████████████████████████████████████████| 96/96 [00:00<00:00, 96.33it/s]\n"
          ],
          "name": "stderr"
        },
        {
          "output_type": "stream",
          "text": [
            "client 0: rounds 2's train_acc: 88.08%, train_loss: 0.4212\n",
            "client 1: rounds 2's train_acc: 88.08%, train_loss: 0.4251\n",
            "client 2: rounds 2's train_acc: 88.00%, train_loss: 0.4293\n",
            "client 3: rounds 2's train_acc: 86.94%, train_loss: 0.4506\n",
            "client 4: rounds 2's train_acc: 87.84%, train_loss: 0.4263\n",
            "Train_average accuracy: 87.78958333333334\n"
          ],
          "name": "stdout"
        },
        {
          "output_type": "stream",
          "text": [
            "Round3: User0_1:  10%|████▊                                         | 10/96 [00:00<00:00, 95.85it/s]"
          ],
          "name": "stderr"
        },
        {
          "output_type": "stream",
          "text": [
            "rounds 2's test_acc: 87.65%, test_loss: 0.4405\n"
          ],
          "name": "stdout"
        },
        {
          "output_type": "stream",
          "text": [
            "Round3: User0_1: 100%|██████████████████████████████████████████████| 96/96 [00:01<00:00, 93.48it/s]\n",
            "Round3: User1_1: 100%|██████████████████████████████████████████████| 96/96 [00:01<00:00, 91.88it/s]\n",
            "Round3: User2_1: 100%|██████████████████████████████████████████████| 96/96 [00:01<00:00, 94.38it/s]\n",
            "Round3: User3_1: 100%|██████████████████████████████████████████████| 96/96 [00:00<00:00, 96.82it/s]\n",
            "Round3: User4_1: 100%|██████████████████████████████████████████████| 96/96 [00:00<00:00, 97.80it/s]\n"
          ],
          "name": "stderr"
        },
        {
          "output_type": "stream",
          "text": [
            "client 0: rounds 3's train_acc: 89.81%, train_loss: 0.3518\n",
            "client 1: rounds 3's train_acc: 89.93%, train_loss: 0.3547\n",
            "client 2: rounds 3's train_acc: 89.96%, train_loss: 0.3594\n",
            "client 3: rounds 3's train_acc: 88.84%, train_loss: 0.3819\n",
            "client 4: rounds 3's train_acc: 89.96%, train_loss: 0.3560\n",
            "Train_average accuracy: 89.69999999999999\n"
          ],
          "name": "stdout"
        },
        {
          "output_type": "stream",
          "text": [
            "Round4: User0_1:  10%|████▊                                         | 10/96 [00:00<00:00, 95.19it/s]"
          ],
          "name": "stderr"
        },
        {
          "output_type": "stream",
          "text": [
            "rounds 3's test_acc: 89.71%, test_loss: 0.3678\n"
          ],
          "name": "stdout"
        },
        {
          "output_type": "stream",
          "text": [
            "Round4: User0_1: 100%|██████████████████████████████████████████████| 96/96 [00:00<00:00, 96.13it/s]\n",
            "Round4: User1_1: 100%|██████████████████████████████████████████████| 96/96 [00:00<00:00, 97.21it/s]\n",
            "Round4: User2_1: 100%|██████████████████████████████████████████████| 96/96 [00:00<00:00, 97.50it/s]\n",
            "Round4: User3_1: 100%|██████████████████████████████████████████████| 96/96 [00:01<00:00, 93.93it/s]\n",
            "Round4: User4_1: 100%|██████████████████████████████████████████████| 96/96 [00:01<00:00, 88.24it/s]\n"
          ],
          "name": "stderr"
        },
        {
          "output_type": "stream",
          "text": [
            "client 0: rounds 4's train_acc: 90.70%, train_loss: 0.3166\n",
            "client 1: rounds 4's train_acc: 90.90%, train_loss: 0.3209\n",
            "client 2: rounds 4's train_acc: 90.92%, train_loss: 0.3240\n",
            "client 3: rounds 4's train_acc: 89.91%, train_loss: 0.3456\n",
            "client 4: rounds 4's train_acc: 90.80%, train_loss: 0.3223\n",
            "Train_average accuracy: 90.64375\n"
          ],
          "name": "stdout"
        },
        {
          "output_type": "stream",
          "text": [
            "Round5: User0_1:   9%|████▍                                          | 9/96 [00:00<00:00, 89.08it/s]"
          ],
          "name": "stderr"
        },
        {
          "output_type": "stream",
          "text": [
            "rounds 4's test_acc: 90.42%, test_loss: 0.3346\n"
          ],
          "name": "stdout"
        },
        {
          "output_type": "stream",
          "text": [
            "Round5: User0_1: 100%|██████████████████████████████████████████████| 96/96 [00:00<00:00, 97.94it/s]\n",
            "Round5: User1_1: 100%|██████████████████████████████████████████████| 96/96 [00:00<00:00, 97.45it/s]\n",
            "Round5: User2_1: 100%|██████████████████████████████████████████████| 96/96 [00:01<00:00, 88.12it/s]\n",
            "Round5: User3_1: 100%|██████████████████████████████████████████████| 96/96 [00:01<00:00, 94.02it/s]\n",
            "Round5: User4_1: 100%|█████████████████████████████████████████████| 96/96 [00:00<00:00, 100.91it/s]\n"
          ],
          "name": "stderr"
        },
        {
          "output_type": "stream",
          "text": [
            "client 0: rounds 5's train_acc: 91.51%, train_loss: 0.2943\n",
            "client 1: rounds 5's train_acc: 91.58%, train_loss: 0.3004\n",
            "client 2: rounds 5's train_acc: 91.21%, train_loss: 0.3024\n",
            "client 3: rounds 5's train_acc: 90.48%, train_loss: 0.3237\n",
            "client 4: rounds 5's train_acc: 91.50%, train_loss: 0.3013\n",
            "Train_average accuracy: 91.25625000000001\n"
          ],
          "name": "stdout"
        },
        {
          "output_type": "stream",
          "text": [
            "Round6: User0_1:   4%|█▉                                             | 4/96 [00:00<00:02, 36.91it/s]"
          ],
          "name": "stderr"
        },
        {
          "output_type": "stream",
          "text": [
            "rounds 5's test_acc: 90.90%, test_loss: 0.3144\n"
          ],
          "name": "stdout"
        },
        {
          "output_type": "stream",
          "text": [
            "Round6: User0_1: 100%|██████████████████████████████████████████████| 96/96 [00:01<00:00, 92.45it/s]\n",
            "Round6: User1_1: 100%|██████████████████████████████████████████████| 96/96 [00:00<00:00, 98.10it/s]\n",
            "Round6: User2_1: 100%|██████████████████████████████████████████████| 96/96 [00:00<00:00, 98.47it/s]\n",
            "Round6: User3_1: 100%|██████████████████████████████████████████████| 96/96 [00:01<00:00, 91.30it/s]\n",
            "Round6: User4_1: 100%|██████████████████████████████████████████████| 96/96 [00:01<00:00, 89.66it/s]\n"
          ],
          "name": "stderr"
        },
        {
          "output_type": "stream",
          "text": [
            "client 0: rounds 6's train_acc: 92.28%, train_loss: 0.2744\n",
            "client 1: rounds 6's train_acc: 92.08%, train_loss: 0.2809\n",
            "client 2: rounds 6's train_acc: 92.09%, train_loss: 0.2816\n",
            "client 3: rounds 6's train_acc: 91.29%, train_loss: 0.2997\n",
            "client 4: rounds 6's train_acc: 92.26%, train_loss: 0.2801\n",
            "Train_average accuracy: 92.00208333333333\n"
          ],
          "name": "stdout"
        },
        {
          "output_type": "stream",
          "text": [
            "Round7: User0_1:   9%|████▍                                          | 9/96 [00:00<00:00, 87.47it/s]"
          ],
          "name": "stderr"
        },
        {
          "output_type": "stream",
          "text": [
            "rounds 6's test_acc: 91.67%, test_loss: 0.2935\n"
          ],
          "name": "stdout"
        },
        {
          "output_type": "stream",
          "text": [
            "Round7: User0_1: 100%|██████████████████████████████████████████████| 96/96 [00:01<00:00, 95.03it/s]\n",
            "Round7: User1_1: 100%|██████████████████████████████████████████████| 96/96 [00:00<00:00, 96.88it/s]\n",
            "Round7: User2_1: 100%|██████████████████████████████████████████████| 96/96 [00:01<00:00, 85.29it/s]\n",
            "Round7: User3_1: 100%|██████████████████████████████████████████████| 96/96 [00:00<00:00, 96.90it/s]\n",
            "Round7: User4_1: 100%|██████████████████████████████████████████████| 96/96 [00:01<00:00, 93.08it/s]\n"
          ],
          "name": "stderr"
        },
        {
          "output_type": "stream",
          "text": [
            "client 0: rounds 7's train_acc: 92.61%, train_loss: 0.2562\n",
            "client 1: rounds 7's train_acc: 92.67%, train_loss: 0.2625\n",
            "client 2: rounds 7's train_acc: 92.33%, train_loss: 0.2641\n",
            "client 3: rounds 7's train_acc: 91.48%, train_loss: 0.2837\n",
            "client 4: rounds 7's train_acc: 92.81%, train_loss: 0.2631\n",
            "Train_average accuracy: 92.38125\n"
          ],
          "name": "stdout"
        },
        {
          "output_type": "stream",
          "text": [
            "Round8: User0_1:  10%|████▊                                         | 10/96 [00:00<00:00, 92.06it/s]"
          ],
          "name": "stderr"
        },
        {
          "output_type": "stream",
          "text": [
            "rounds 7's test_acc: 91.99%, test_loss: 0.2774\n"
          ],
          "name": "stdout"
        },
        {
          "output_type": "stream",
          "text": [
            "Round8: User0_1: 100%|██████████████████████████████████████████████| 96/96 [00:01<00:00, 94.19it/s]\n",
            "Round8: User1_1: 100%|██████████████████████████████████████████████| 96/96 [00:01<00:00, 95.76it/s]\n",
            "Round8: User2_1: 100%|██████████████████████████████████████████████| 96/96 [00:01<00:00, 95.19it/s]\n",
            "Round8: User3_1: 100%|██████████████████████████████████████████████| 96/96 [00:01<00:00, 95.15it/s]\n",
            "Round8: User4_1: 100%|██████████████████████████████████████████████| 96/96 [00:00<00:00, 97.59it/s]\n"
          ],
          "name": "stderr"
        },
        {
          "output_type": "stream",
          "text": [
            "client 0: rounds 8's train_acc: 93.22%, train_loss: 0.2399\n",
            "client 1: rounds 8's train_acc: 93.03%, train_loss: 0.2465\n",
            "client 2: rounds 8's train_acc: 93.01%, train_loss: 0.2463\n",
            "client 3: rounds 8's train_acc: 92.05%, train_loss: 0.2650\n",
            "client 4: rounds 8's train_acc: 93.19%, train_loss: 0.2474\n",
            "Train_average accuracy: 92.89999999999999\n"
          ],
          "name": "stdout"
        },
        {
          "output_type": "stream",
          "text": [
            "Round9: User0_1:  10%|████▊                                         | 10/96 [00:00<00:00, 93.68it/s]"
          ],
          "name": "stderr"
        },
        {
          "output_type": "stream",
          "text": [
            "rounds 8's test_acc: 92.47%, test_loss: 0.2617\n"
          ],
          "name": "stdout"
        },
        {
          "output_type": "stream",
          "text": [
            "Round9: User0_1: 100%|██████████████████████████████████████████████| 96/96 [00:00<00:00, 96.11it/s]\n",
            "Round9: User1_1: 100%|██████████████████████████████████████████████| 96/96 [00:00<00:00, 96.15it/s]\n",
            "Round9: User2_1: 100%|██████████████████████████████████████████████| 96/96 [00:01<00:00, 95.14it/s]\n",
            "Round9: User3_1: 100%|██████████████████████████████████████████████| 96/96 [00:01<00:00, 93.38it/s]\n",
            "Round9: User4_1: 100%|██████████████████████████████████████████████| 96/96 [00:01<00:00, 84.98it/s]\n"
          ],
          "name": "stderr"
        },
        {
          "output_type": "stream",
          "text": [
            "client 0: rounds 9's train_acc: 93.40%, train_loss: 0.2284\n",
            "client 1: rounds 9's train_acc: 93.39%, train_loss: 0.2344\n",
            "client 2: rounds 9's train_acc: 93.14%, train_loss: 0.2328\n",
            "client 3: rounds 9's train_acc: 92.54%, train_loss: 0.2514\n",
            "client 4: rounds 9's train_acc: 93.59%, train_loss: 0.2339\n",
            "Train_average accuracy: 93.21041666666667\n"
          ],
          "name": "stdout"
        },
        {
          "output_type": "stream",
          "text": [
            "Round10: User0_1:  10%|████▋                                        | 10/96 [00:00<00:00, 93.98it/s]"
          ],
          "name": "stderr"
        },
        {
          "output_type": "stream",
          "text": [
            "rounds 9's test_acc: 92.82%, test_loss: 0.2475\n"
          ],
          "name": "stdout"
        },
        {
          "output_type": "stream",
          "text": [
            "Round10: User0_1: 100%|█████████████████████████████████████████████| 96/96 [00:01<00:00, 93.38it/s]\n",
            "Round10: User1_1: 100%|█████████████████████████████████████████████| 96/96 [00:00<00:00, 98.44it/s]\n",
            "Round10: User2_1: 100%|█████████████████████████████████████████████| 96/96 [00:01<00:00, 95.31it/s]\n",
            "Round10: User3_1: 100%|█████████████████████████████████████████████| 96/96 [00:01<00:00, 92.95it/s]\n",
            "Round10: User4_1: 100%|█████████████████████████████████████████████| 96/96 [00:01<00:00, 94.16it/s]\n"
          ],
          "name": "stderr"
        },
        {
          "output_type": "stream",
          "text": [
            "client 0: rounds 10's train_acc: 93.81%, train_loss: 0.2132\n",
            "client 1: rounds 10's train_acc: 93.89%, train_loss: 0.2188\n",
            "client 2: rounds 10's train_acc: 93.58%, train_loss: 0.2186\n",
            "client 3: rounds 10's train_acc: 92.88%, train_loss: 0.2350\n",
            "client 4: rounds 10's train_acc: 94.11%, train_loss: 0.2209\n",
            "Train_average accuracy: 93.65416666666667\n"
          ],
          "name": "stdout"
        },
        {
          "output_type": "stream",
          "text": [
            "Round11: User0_1:  10%|████▋                                        | 10/96 [00:00<00:00, 96.96it/s]"
          ],
          "name": "stderr"
        },
        {
          "output_type": "stream",
          "text": [
            "rounds 10's test_acc: 93.21%, test_loss: 0.2364\n"
          ],
          "name": "stdout"
        },
        {
          "output_type": "stream",
          "text": [
            "Round11: User0_1: 100%|█████████████████████████████████████████████| 96/96 [00:01<00:00, 93.28it/s]\n",
            "Round11: User1_1: 100%|█████████████████████████████████████████████| 96/96 [00:01<00:00, 88.23it/s]\n",
            "Round11: User2_1: 100%|█████████████████████████████████████████████| 96/96 [00:00<00:00, 96.91it/s]\n",
            "Round11: User3_1: 100%|█████████████████████████████████████████████| 96/96 [00:00<00:00, 96.13it/s]\n",
            "Round11: User4_1: 100%|█████████████████████████████████████████████| 96/96 [00:00<00:00, 97.79it/s]\n"
          ],
          "name": "stderr"
        },
        {
          "output_type": "stream",
          "text": [
            "client 0: rounds 11's train_acc: 93.98%, train_loss: 0.2053\n",
            "client 1: rounds 11's train_acc: 94.04%, train_loss: 0.2092\n",
            "client 2: rounds 11's train_acc: 94.11%, train_loss: 0.2097\n",
            "client 3: rounds 11's train_acc: 93.34%, train_loss: 0.2248\n",
            "client 4: rounds 11's train_acc: 94.23%, train_loss: 0.2125\n",
            "Train_average accuracy: 93.94166666666668\n"
          ],
          "name": "stdout"
        },
        {
          "output_type": "stream",
          "text": [
            "Round12: User0_1:   9%|████▎                                         | 9/96 [00:00<00:00, 89.10it/s]"
          ],
          "name": "stderr"
        },
        {
          "output_type": "stream",
          "text": [
            "rounds 11's test_acc: 93.41%, test_loss: 0.2287\n"
          ],
          "name": "stdout"
        },
        {
          "output_type": "stream",
          "text": [
            "Round12: User0_1: 100%|█████████████████████████████████████████████| 96/96 [00:00<00:00, 97.65it/s]\n",
            "Round12: User1_1: 100%|█████████████████████████████████████████████| 96/96 [00:00<00:00, 97.00it/s]\n",
            "Round12: User2_1: 100%|█████████████████████████████████████████████| 96/96 [00:00<00:00, 96.13it/s]\n",
            "Round12: User3_1: 100%|█████████████████████████████████████████████| 96/96 [00:00<00:00, 97.50it/s]\n",
            "Round12: User4_1: 100%|█████████████████████████████████████████████| 96/96 [00:00<00:00, 98.21it/s]\n"
          ],
          "name": "stderr"
        },
        {
          "output_type": "stream",
          "text": [
            "client 0: rounds 12's train_acc: 94.33%, train_loss: 0.1963\n",
            "client 1: rounds 12's train_acc: 94.38%, train_loss: 0.2007\n",
            "client 2: rounds 12's train_acc: 93.96%, train_loss: 0.2003\n",
            "client 3: rounds 12's train_acc: 93.30%, train_loss: 0.2161\n",
            "client 4: rounds 12's train_acc: 94.46%, train_loss: 0.2029\n",
            "Train_average accuracy: 94.08541666666666\n"
          ],
          "name": "stdout"
        },
        {
          "output_type": "stream",
          "text": [
            "Round13: User0_1:  10%|████▋                                        | 10/96 [00:00<00:00, 94.47it/s]"
          ],
          "name": "stderr"
        },
        {
          "output_type": "stream",
          "text": [
            "rounds 12's test_acc: 93.69%, test_loss: 0.2188\n"
          ],
          "name": "stdout"
        },
        {
          "output_type": "stream",
          "text": [
            "Round13: User0_1: 100%|█████████████████████████████████████████████| 96/96 [00:00<00:00, 99.30it/s]\n",
            "Round13: User1_1: 100%|█████████████████████████████████████████████| 96/96 [00:00<00:00, 96.78it/s]\n",
            "Round13: User2_1: 100%|█████████████████████████████████████████████| 96/96 [00:00<00:00, 96.31it/s]\n",
            "Round13: User3_1: 100%|█████████████████████████████████████████████| 96/96 [00:00<00:00, 96.27it/s]\n",
            "Round13: User4_1: 100%|█████████████████████████████████████████████| 96/96 [00:00<00:00, 97.65it/s]\n"
          ],
          "name": "stderr"
        },
        {
          "output_type": "stream",
          "text": [
            "client 0: rounds 13's train_acc: 94.55%, train_loss: 0.1876\n",
            "client 1: rounds 13's train_acc: 94.68%, train_loss: 0.1903\n",
            "client 2: rounds 13's train_acc: 94.55%, train_loss: 0.1905\n",
            "client 3: rounds 13's train_acc: 93.82%, train_loss: 0.2039\n",
            "client 4: rounds 13's train_acc: 94.68%, train_loss: 0.1935\n",
            "Train_average accuracy: 94.45625\n"
          ],
          "name": "stdout"
        },
        {
          "output_type": "stream",
          "text": [
            "Round14: User0_1:   9%|████▎                                         | 9/96 [00:00<00:01, 83.75it/s]"
          ],
          "name": "stderr"
        },
        {
          "output_type": "stream",
          "text": [
            "rounds 13's test_acc: 93.82%, test_loss: 0.2105\n"
          ],
          "name": "stdout"
        },
        {
          "output_type": "stream",
          "text": [
            "Round14: User0_1: 100%|█████████████████████████████████████████████| 96/96 [00:00<00:00, 97.81it/s]\n",
            "Round14: User1_1: 100%|█████████████████████████████████████████████| 96/96 [00:01<00:00, 94.84it/s]\n",
            "Round14: User2_1: 100%|█████████████████████████████████████████████| 96/96 [00:01<00:00, 86.82it/s]\n",
            "Round14: User3_1: 100%|█████████████████████████████████████████████| 96/96 [00:01<00:00, 83.69it/s]\n",
            "Round14: User4_1: 100%|█████████████████████████████████████████████| 96/96 [00:01<00:00, 94.11it/s]\n"
          ],
          "name": "stderr"
        },
        {
          "output_type": "stream",
          "text": [
            "client 0: rounds 14's train_acc: 94.71%, train_loss: 0.1808\n",
            "client 1: rounds 14's train_acc: 94.92%, train_loss: 0.1839\n",
            "client 2: rounds 14's train_acc: 94.54%, train_loss: 0.1827\n",
            "client 3: rounds 14's train_acc: 94.04%, train_loss: 0.1968\n",
            "client 4: rounds 14's train_acc: 94.98%, train_loss: 0.1882\n",
            "Train_average accuracy: 94.63750000000002\n"
          ],
          "name": "stdout"
        },
        {
          "output_type": "stream",
          "text": [
            "Round15: User0_1:   9%|████▎                                         | 9/96 [00:00<00:00, 88.50it/s]"
          ],
          "name": "stderr"
        },
        {
          "output_type": "stream",
          "text": [
            "rounds 14's test_acc: 93.97%, test_loss: 0.2060\n"
          ],
          "name": "stdout"
        },
        {
          "output_type": "stream",
          "text": [
            "Round15: User0_1: 100%|█████████████████████████████████████████████| 96/96 [00:00<00:00, 97.00it/s]\n",
            "Round15: User1_1: 100%|█████████████████████████████████████████████| 96/96 [00:01<00:00, 83.83it/s]\n",
            "Round15: User2_1: 100%|█████████████████████████████████████████████| 96/96 [00:01<00:00, 92.74it/s]\n",
            "Round15: User3_1: 100%|█████████████████████████████████████████████| 96/96 [00:01<00:00, 78.80it/s]\n",
            "Round15: User4_1: 100%|█████████████████████████████████████████████| 96/96 [00:01<00:00, 95.51it/s]\n"
          ],
          "name": "stderr"
        },
        {
          "output_type": "stream",
          "text": [
            "client 0: rounds 15's train_acc: 94.94%, train_loss: 0.1736\n",
            "client 1: rounds 15's train_acc: 95.11%, train_loss: 0.1731\n",
            "client 2: rounds 15's train_acc: 94.96%, train_loss: 0.1746\n",
            "client 3: rounds 15's train_acc: 94.30%, train_loss: 0.1865\n",
            "client 4: rounds 15's train_acc: 95.02%, train_loss: 0.1787\n",
            "Train_average accuracy: 94.86666666666666\n"
          ],
          "name": "stdout"
        },
        {
          "output_type": "stream",
          "text": [
            "Round16: User0_1:  10%|████▋                                        | 10/96 [00:00<00:00, 93.15it/s]"
          ],
          "name": "stderr"
        },
        {
          "output_type": "stream",
          "text": [
            "rounds 15's test_acc: 94.26%, test_loss: 0.1982\n"
          ],
          "name": "stdout"
        },
        {
          "output_type": "stream",
          "text": [
            "Round16: User0_1: 100%|█████████████████████████████████████████████| 96/96 [00:01<00:00, 90.98it/s]\n",
            "Round16: User1_1: 100%|█████████████████████████████████████████████| 96/96 [00:01<00:00, 91.62it/s]\n",
            "Round16: User2_1: 100%|█████████████████████████████████████████████| 96/96 [00:01<00:00, 87.24it/s]\n",
            "Round16: User3_1: 100%|█████████████████████████████████████████████| 96/96 [00:01<00:00, 94.29it/s]\n",
            "Round16: User4_1: 100%|█████████████████████████████████████████████| 96/96 [00:01<00:00, 89.43it/s]\n"
          ],
          "name": "stderr"
        },
        {
          "output_type": "stream",
          "text": [
            "client 0: rounds 16's train_acc: 95.23%, train_loss: 0.1675\n",
            "client 1: rounds 16's train_acc: 95.52%, train_loss: 0.1677\n",
            "client 2: rounds 16's train_acc: 95.08%, train_loss: 0.1681\n",
            "client 3: rounds 16's train_acc: 94.56%, train_loss: 0.1791\n",
            "client 4: rounds 16's train_acc: 95.39%, train_loss: 0.1726\n",
            "Train_average accuracy: 95.15625\n"
          ],
          "name": "stdout"
        },
        {
          "output_type": "stream",
          "text": [
            "Round17: User0_1:   3%|█▍                                            | 3/96 [00:00<00:03, 27.49it/s]"
          ],
          "name": "stderr"
        },
        {
          "output_type": "stream",
          "text": [
            "rounds 16's test_acc: 94.47%, test_loss: 0.1927\n"
          ],
          "name": "stdout"
        },
        {
          "output_type": "stream",
          "text": [
            "Round17: User0_1: 100%|█████████████████████████████████████████████| 96/96 [00:01<00:00, 76.59it/s]\n",
            "Round17: User1_1: 100%|█████████████████████████████████████████████| 96/96 [00:01<00:00, 95.87it/s]\n",
            "Round17: User2_1: 100%|█████████████████████████████████████████████| 96/96 [00:00<00:00, 96.35it/s]\n",
            "Round17: User3_1: 100%|█████████████████████████████████████████████| 96/96 [00:01<00:00, 94.08it/s]\n",
            "Round17: User4_1: 100%|█████████████████████████████████████████████| 96/96 [00:01<00:00, 93.77it/s]\n"
          ],
          "name": "stderr"
        },
        {
          "output_type": "stream",
          "text": [
            "client 0: rounds 17's train_acc: 95.32%, train_loss: 0.1619\n",
            "client 1: rounds 17's train_acc: 95.72%, train_loss: 0.1594\n",
            "client 2: rounds 17's train_acc: 95.29%, train_loss: 0.1616\n",
            "client 3: rounds 17's train_acc: 94.75%, train_loss: 0.1732\n",
            "client 4: rounds 17's train_acc: 95.49%, train_loss: 0.1655\n",
            "Train_average accuracy: 95.31458333333335\n"
          ],
          "name": "stdout"
        },
        {
          "output_type": "stream",
          "text": [
            "Round18: User0_1:  10%|████▋                                        | 10/96 [00:00<00:00, 93.08it/s]"
          ],
          "name": "stderr"
        },
        {
          "output_type": "stream",
          "text": [
            "rounds 17's test_acc: 94.62%, test_loss: 0.1870\n"
          ],
          "name": "stdout"
        },
        {
          "output_type": "stream",
          "text": [
            "Round18: User0_1: 100%|█████████████████████████████████████████████| 96/96 [00:00<00:00, 98.69it/s]\n",
            "Round18: User1_1: 100%|█████████████████████████████████████████████| 96/96 [00:01<00:00, 95.47it/s]\n",
            "Round18: User2_1: 100%|█████████████████████████████████████████████| 96/96 [00:00<00:00, 96.08it/s]\n",
            "Round18: User3_1: 100%|█████████████████████████████████████████████| 96/96 [00:01<00:00, 87.79it/s]\n",
            "Round18: User4_1: 100%|█████████████████████████████████████████████| 96/96 [00:01<00:00, 95.52it/s]\n"
          ],
          "name": "stderr"
        },
        {
          "output_type": "stream",
          "text": [
            "client 0: rounds 18's train_acc: 95.46%, train_loss: 0.1592\n",
            "client 1: rounds 18's train_acc: 95.55%, train_loss: 0.1580\n",
            "client 2: rounds 18's train_acc: 95.31%, train_loss: 0.1578\n",
            "client 3: rounds 18's train_acc: 94.78%, train_loss: 0.1691\n",
            "client 4: rounds 18's train_acc: 95.44%, train_loss: 0.1631\n",
            "Train_average accuracy: 95.30833333333334\n"
          ],
          "name": "stdout"
        },
        {
          "output_type": "stream",
          "text": [
            "Round19: User0_1:  10%|████▋                                        | 10/96 [00:00<00:00, 97.51it/s]"
          ],
          "name": "stderr"
        },
        {
          "output_type": "stream",
          "text": [
            "rounds 18's test_acc: 94.73%, test_loss: 0.1861\n"
          ],
          "name": "stdout"
        },
        {
          "output_type": "stream",
          "text": [
            "Round19: User0_1: 100%|█████████████████████████████████████████████| 96/96 [00:00<00:00, 97.35it/s]\n",
            "Round19: User1_1: 100%|█████████████████████████████████████████████| 96/96 [00:01<00:00, 93.91it/s]\n",
            "Round19: User2_1: 100%|█████████████████████████████████████████████| 96/96 [00:00<00:00, 96.46it/s]\n",
            "Round19: User3_1: 100%|█████████████████████████████████████████████| 96/96 [00:00<00:00, 96.07it/s]\n",
            "Round19: User4_1: 100%|█████████████████████████████████████████████| 96/96 [00:01<00:00, 91.44it/s]\n"
          ],
          "name": "stderr"
        },
        {
          "output_type": "stream",
          "text": [
            "client 0: rounds 19's train_acc: 95.77%, train_loss: 0.1511\n",
            "client 1: rounds 19's train_acc: 96.07%, train_loss: 0.1480\n",
            "client 2: rounds 19's train_acc: 95.57%, train_loss: 0.1492\n",
            "client 3: rounds 19's train_acc: 95.14%, train_loss: 0.1608\n",
            "client 4: rounds 19's train_acc: 95.74%, train_loss: 0.1547\n",
            "Train_average accuracy: 95.65833333333332\n"
          ],
          "name": "stdout"
        },
        {
          "output_type": "stream",
          "text": [
            "Round20: User0_1:  10%|████▋                                        | 10/96 [00:00<00:00, 96.66it/s]"
          ],
          "name": "stderr"
        },
        {
          "output_type": "stream",
          "text": [
            "rounds 19's test_acc: 95.03%, test_loss: 0.1798\n"
          ],
          "name": "stdout"
        },
        {
          "output_type": "stream",
          "text": [
            "Round20: User0_1: 100%|█████████████████████████████████████████████| 96/96 [00:01<00:00, 94.54it/s]\n",
            "Round20: User1_1: 100%|█████████████████████████████████████████████| 96/96 [00:01<00:00, 92.41it/s]\n",
            "Round20: User2_1: 100%|█████████████████████████████████████████████| 96/96 [00:01<00:00, 87.92it/s]\n",
            "Round20: User3_1: 100%|█████████████████████████████████████████████| 96/96 [00:01<00:00, 93.99it/s]\n",
            "Round20: User4_1: 100%|█████████████████████████████████████████████| 96/96 [00:01<00:00, 87.28it/s]\n"
          ],
          "name": "stderr"
        },
        {
          "output_type": "stream",
          "text": [
            "client 0: rounds 20's train_acc: 95.77%, train_loss: 0.1474\n",
            "client 1: rounds 20's train_acc: 96.07%, train_loss: 0.1432\n",
            "client 2: rounds 20's train_acc: 95.76%, train_loss: 0.1452\n",
            "client 3: rounds 20's train_acc: 95.22%, train_loss: 0.1548\n",
            "client 4: rounds 20's train_acc: 95.96%, train_loss: 0.1507\n",
            "Train_average accuracy: 95.75625\n"
          ],
          "name": "stdout"
        },
        {
          "output_type": "stream",
          "text": [
            "Round21: User0_1:  10%|████▋                                        | 10/96 [00:00<00:00, 96.52it/s]"
          ],
          "name": "stderr"
        },
        {
          "output_type": "stream",
          "text": [
            "rounds 20's test_acc: 94.97%, test_loss: 0.1762\n"
          ],
          "name": "stdout"
        },
        {
          "output_type": "stream",
          "text": [
            "Round21: User0_1: 100%|█████████████████████████████████████████████| 96/96 [00:00<00:00, 96.57it/s]\n",
            "Round21: User1_1: 100%|█████████████████████████████████████████████| 96/96 [00:01<00:00, 95.13it/s]\n",
            "Round21: User2_1: 100%|█████████████████████████████████████████████| 96/96 [00:01<00:00, 94.99it/s]\n",
            "Round21: User3_1: 100%|█████████████████████████████████████████████| 96/96 [00:01<00:00, 90.83it/s]\n",
            "Round21: User4_1: 100%|█████████████████████████████████████████████| 96/96 [00:01<00:00, 91.22it/s]\n"
          ],
          "name": "stderr"
        },
        {
          "output_type": "stream",
          "text": [
            "client 0: rounds 21's train_acc: 95.92%, train_loss: 0.1429\n",
            "client 1: rounds 21's train_acc: 96.22%, train_loss: 0.1396\n",
            "client 2: rounds 21's train_acc: 95.83%, train_loss: 0.1405\n",
            "client 3: rounds 21's train_acc: 95.36%, train_loss: 0.1515\n",
            "client 4: rounds 21's train_acc: 95.91%, train_loss: 0.1476\n",
            "Train_average accuracy: 95.84791666666666\n"
          ],
          "name": "stdout"
        },
        {
          "output_type": "stream",
          "text": [
            "Round22: User0_1:  10%|████▋                                        | 10/96 [00:00<00:00, 98.63it/s]"
          ],
          "name": "stderr"
        },
        {
          "output_type": "stream",
          "text": [
            "rounds 21's test_acc: 95.17%, test_loss: 0.1737\n"
          ],
          "name": "stdout"
        },
        {
          "output_type": "stream",
          "text": [
            "Round22: User0_1: 100%|█████████████████████████████████████████████| 96/96 [00:00<00:00, 98.53it/s]\n",
            "Round22: User1_1: 100%|█████████████████████████████████████████████| 96/96 [00:01<00:00, 91.74it/s]\n",
            "Round22: User2_1: 100%|█████████████████████████████████████████████| 96/96 [00:00<00:00, 97.24it/s]\n",
            "Round22: User3_1: 100%|█████████████████████████████████████████████| 96/96 [00:01<00:00, 92.89it/s]\n",
            "Round22: User4_1: 100%|█████████████████████████████████████████████| 96/96 [00:01<00:00, 90.62it/s]\n"
          ],
          "name": "stderr"
        },
        {
          "output_type": "stream",
          "text": [
            "client 0: rounds 22's train_acc: 96.01%, train_loss: 0.1404\n",
            "client 1: rounds 22's train_acc: 96.24%, train_loss: 0.1353\n",
            "client 2: rounds 22's train_acc: 95.94%, train_loss: 0.1363\n",
            "client 3: rounds 22's train_acc: 95.57%, train_loss: 0.1464\n",
            "client 4: rounds 22's train_acc: 95.98%, train_loss: 0.1425\n",
            "Train_average accuracy: 95.94791666666666\n"
          ],
          "name": "stdout"
        },
        {
          "output_type": "stream",
          "text": [
            "Round23: User0_1:  10%|████▋                                        | 10/96 [00:00<00:00, 93.40it/s]"
          ],
          "name": "stderr"
        },
        {
          "output_type": "stream",
          "text": [
            "rounds 22's test_acc: 95.20%, test_loss: 0.1692\n"
          ],
          "name": "stdout"
        },
        {
          "output_type": "stream",
          "text": [
            "Round23: User0_1: 100%|█████████████████████████████████████████████| 96/96 [00:01<00:00, 89.77it/s]\n",
            "Round23: User1_1: 100%|█████████████████████████████████████████████| 96/96 [00:01<00:00, 89.13it/s]\n",
            "Round23: User2_1: 100%|█████████████████████████████████████████████| 96/96 [00:00<00:00, 97.38it/s]\n",
            "Round23: User3_1: 100%|█████████████████████████████████████████████| 96/96 [00:00<00:00, 96.70it/s]\n",
            "Round23: User4_1: 100%|█████████████████████████████████████████████| 96/96 [00:01<00:00, 95.90it/s]\n"
          ],
          "name": "stderr"
        },
        {
          "output_type": "stream",
          "text": [
            "client 0: rounds 23's train_acc: 96.20%, train_loss: 0.1348\n",
            "client 1: rounds 23's train_acc: 96.41%, train_loss: 0.1303\n",
            "client 2: rounds 23's train_acc: 96.03%, train_loss: 0.1301\n",
            "client 3: rounds 23's train_acc: 95.64%, train_loss: 0.1423\n",
            "client 4: rounds 23's train_acc: 96.05%, train_loss: 0.1381\n",
            "Train_average accuracy: 96.06458333333335\n"
          ],
          "name": "stdout"
        },
        {
          "output_type": "stream",
          "text": [
            "Round24: User0_1:  10%|████▋                                        | 10/96 [00:00<00:00, 91.38it/s]"
          ],
          "name": "stderr"
        },
        {
          "output_type": "stream",
          "text": [
            "rounds 23's test_acc: 95.24%, test_loss: 0.1670\n"
          ],
          "name": "stdout"
        },
        {
          "output_type": "stream",
          "text": [
            "Round24: User0_1: 100%|█████████████████████████████████████████████| 96/96 [00:01<00:00, 92.82it/s]\n",
            "Round24: User1_1: 100%|█████████████████████████████████████████████| 96/96 [00:01<00:00, 92.21it/s]\n",
            "Round24: User2_1: 100%|█████████████████████████████████████████████| 96/96 [00:00<00:00, 97.04it/s]\n",
            "Round24: User3_1: 100%|█████████████████████████████████████████████| 96/96 [00:01<00:00, 95.10it/s]\n",
            "Round24: User4_1: 100%|█████████████████████████████████████████████| 96/96 [00:01<00:00, 92.60it/s]\n"
          ],
          "name": "stderr"
        },
        {
          "output_type": "stream",
          "text": [
            "client 0: rounds 24's train_acc: 96.34%, train_loss: 0.1315\n",
            "client 1: rounds 24's train_acc: 96.50%, train_loss: 0.1265\n",
            "client 2: rounds 24's train_acc: 96.20%, train_loss: 0.1270\n",
            "client 3: rounds 24's train_acc: 96.02%, train_loss: 0.1366\n",
            "client 4: rounds 24's train_acc: 96.28%, train_loss: 0.1339\n",
            "Train_average accuracy: 96.26875\n"
          ],
          "name": "stdout"
        },
        {
          "output_type": "stream",
          "text": [
            "Round25: User0_1:   9%|████▎                                         | 9/96 [00:00<00:00, 89.81it/s]"
          ],
          "name": "stderr"
        },
        {
          "output_type": "stream",
          "text": [
            "rounds 24's test_acc: 95.36%, test_loss: 0.1636\n"
          ],
          "name": "stdout"
        },
        {
          "output_type": "stream",
          "text": [
            "Round25: User0_1: 100%|█████████████████████████████████████████████| 96/96 [00:01<00:00, 95.30it/s]\n",
            "Round25: User1_1: 100%|█████████████████████████████████████████████| 96/96 [00:00<00:00, 96.28it/s]\n",
            "Round25: User2_1: 100%|█████████████████████████████████████████████| 96/96 [00:01<00:00, 85.55it/s]\n",
            "Round25: User3_1: 100%|█████████████████████████████████████████████| 96/96 [00:01<00:00, 90.32it/s]\n",
            "Round25: User4_1: 100%|█████████████████████████████████████████████| 96/96 [00:01<00:00, 91.96it/s]\n"
          ],
          "name": "stderr"
        },
        {
          "output_type": "stream",
          "text": [
            "client 0: rounds 25's train_acc: 96.22%, train_loss: 0.1288\n",
            "client 1: rounds 25's train_acc: 96.66%, train_loss: 0.1224\n",
            "client 2: rounds 25's train_acc: 96.38%, train_loss: 0.1250\n",
            "client 3: rounds 25's train_acc: 95.93%, train_loss: 0.1346\n",
            "client 4: rounds 25's train_acc: 96.34%, train_loss: 0.1303\n",
            "Train_average accuracy: 96.30416666666666\n"
          ],
          "name": "stdout"
        },
        {
          "output_type": "stream",
          "text": [
            "Round26: User0_1:  10%|████▋                                        | 10/96 [00:00<00:00, 92.17it/s]"
          ],
          "name": "stderr"
        },
        {
          "output_type": "stream",
          "text": [
            "rounds 25's test_acc: 95.39%, test_loss: 0.1624\n"
          ],
          "name": "stdout"
        },
        {
          "output_type": "stream",
          "text": [
            "Round26: User0_1: 100%|█████████████████████████████████████████████| 96/96 [00:01<00:00, 95.99it/s]\n",
            "Round26: User1_1: 100%|█████████████████████████████████████████████| 96/96 [00:01<00:00, 84.93it/s]\n",
            "Round26: User2_1: 100%|█████████████████████████████████████████████| 96/96 [00:01<00:00, 95.49it/s]\n",
            "Round26: User3_1: 100%|█████████████████████████████████████████████| 96/96 [00:01<00:00, 95.04it/s]\n",
            "Round26: User4_1: 100%|█████████████████████████████████████████████| 96/96 [00:01<00:00, 89.26it/s]\n"
          ],
          "name": "stderr"
        },
        {
          "output_type": "stream",
          "text": [
            "client 0: rounds 26's train_acc: 96.57%, train_loss: 0.1239\n",
            "client 1: rounds 26's train_acc: 96.78%, train_loss: 0.1185\n",
            "client 2: rounds 26's train_acc: 96.51%, train_loss: 0.1195\n",
            "client 3: rounds 26's train_acc: 96.12%, train_loss: 0.1284\n",
            "client 4: rounds 26's train_acc: 96.50%, train_loss: 0.1262\n",
            "Train_average accuracy: 96.49791666666667\n"
          ],
          "name": "stdout"
        },
        {
          "output_type": "stream",
          "text": [
            "Round27: User0_1:  10%|████▋                                        | 10/96 [00:00<00:00, 94.08it/s]"
          ],
          "name": "stderr"
        },
        {
          "output_type": "stream",
          "text": [
            "rounds 26's test_acc: 95.47%, test_loss: 0.1594\n"
          ],
          "name": "stdout"
        },
        {
          "output_type": "stream",
          "text": [
            "Round27: User0_1: 100%|█████████████████████████████████████████████| 96/96 [00:01<00:00, 95.51it/s]\n",
            "Round27: User1_1: 100%|█████████████████████████████████████████████| 96/96 [00:01<00:00, 92.12it/s]\n",
            "Round27: User2_1: 100%|█████████████████████████████████████████████| 96/96 [00:01<00:00, 84.13it/s]\n",
            "Round27: User3_1: 100%|█████████████████████████████████████████████| 96/96 [00:01<00:00, 95.51it/s]\n",
            "Round27: User4_1: 100%|█████████████████████████████████████████████| 96/96 [00:00<00:00, 96.79it/s]\n"
          ],
          "name": "stderr"
        },
        {
          "output_type": "stream",
          "text": [
            "client 0: rounds 27's train_acc: 96.41%, train_loss: 0.1254\n",
            "client 1: rounds 27's train_acc: 96.64%, train_loss: 0.1199\n",
            "client 2: rounds 27's train_acc: 96.60%, train_loss: 0.1199\n",
            "client 3: rounds 27's train_acc: 96.02%, train_loss: 0.1300\n",
            "client 4: rounds 27's train_acc: 96.39%, train_loss: 0.1269\n",
            "Train_average accuracy: 96.41041666666666\n"
          ],
          "name": "stdout"
        },
        {
          "output_type": "stream",
          "text": [
            "Round28: User0_1:   2%|▉                                             | 2/96 [00:00<00:04, 19.79it/s]"
          ],
          "name": "stderr"
        },
        {
          "output_type": "stream",
          "text": [
            "rounds 27's test_acc: 95.41%, test_loss: 0.1607\n"
          ],
          "name": "stdout"
        },
        {
          "output_type": "stream",
          "text": [
            "Round28: User0_1: 100%|█████████████████████████████████████████████| 96/96 [00:01<00:00, 90.46it/s]\n",
            "Round28: User1_1: 100%|█████████████████████████████████████████████| 96/96 [00:01<00:00, 94.10it/s]\n",
            "Round28: User2_1: 100%|█████████████████████████████████████████████| 96/96 [00:01<00:00, 95.43it/s]\n",
            "Round28: User3_1: 100%|█████████████████████████████████████████████| 96/96 [00:01<00:00, 95.15it/s]\n",
            "Round28: User4_1: 100%|█████████████████████████████████████████████| 96/96 [00:01<00:00, 91.05it/s]\n"
          ],
          "name": "stderr"
        },
        {
          "output_type": "stream",
          "text": [
            "client 0: rounds 28's train_acc: 96.61%, train_loss: 0.1183\n",
            "client 1: rounds 28's train_acc: 96.85%, train_loss: 0.1127\n",
            "client 2: rounds 28's train_acc: 96.70%, train_loss: 0.1136\n",
            "client 3: rounds 28's train_acc: 96.39%, train_loss: 0.1227\n",
            "client 4: rounds 28's train_acc: 96.57%, train_loss: 0.1200\n",
            "Train_average accuracy: 96.625\n"
          ],
          "name": "stdout"
        },
        {
          "output_type": "stream",
          "text": [
            "Round29: User0_1:  10%|████▋                                        | 10/96 [00:00<00:00, 92.72it/s]"
          ],
          "name": "stderr"
        },
        {
          "output_type": "stream",
          "text": [
            "rounds 28's test_acc: 95.66%, test_loss: 0.1549\n"
          ],
          "name": "stdout"
        },
        {
          "output_type": "stream",
          "text": [
            "Round29: User0_1: 100%|█████████████████████████████████████████████| 96/96 [00:01<00:00, 94.79it/s]\n",
            "Round29: User1_1: 100%|█████████████████████████████████████████████| 96/96 [00:01<00:00, 94.07it/s]\n",
            "Round29: User2_1: 100%|█████████████████████████████████████████████| 96/96 [00:01<00:00, 93.73it/s]\n",
            "Round29: User3_1: 100%|█████████████████████████████████████████████| 96/96 [00:00<00:00, 96.56it/s]\n",
            "Round29: User4_1: 100%|█████████████████████████████████████████████| 96/96 [00:01<00:00, 91.67it/s]\n"
          ],
          "name": "stderr"
        },
        {
          "output_type": "stream",
          "text": [
            "client 0: rounds 29's train_acc: 96.67%, train_loss: 0.1149\n",
            "client 1: rounds 29's train_acc: 96.99%, train_loss: 0.1095\n",
            "client 2: rounds 29's train_acc: 96.76%, train_loss: 0.1092\n",
            "client 3: rounds 29's train_acc: 96.50%, train_loss: 0.1195\n",
            "client 4: rounds 29's train_acc: 96.72%, train_loss: 0.1174\n",
            "Train_average accuracy: 96.72708333333334\n"
          ],
          "name": "stdout"
        },
        {
          "output_type": "stream",
          "text": [
            "Round30: User0_1:   9%|████▎                                         | 9/96 [00:00<00:00, 88.34it/s]"
          ],
          "name": "stderr"
        },
        {
          "output_type": "stream",
          "text": [
            "rounds 29's test_acc: 95.71%, test_loss: 0.1530\n"
          ],
          "name": "stdout"
        },
        {
          "output_type": "stream",
          "text": [
            "Round30: User0_1: 100%|█████████████████████████████████████████████| 96/96 [00:01<00:00, 94.59it/s]\n",
            "Round30: User1_1: 100%|█████████████████████████████████████████████| 96/96 [00:00<00:00, 98.76it/s]\n",
            "Round30: User2_1: 100%|█████████████████████████████████████████████| 96/96 [00:00<00:00, 97.06it/s]\n",
            "Round30: User3_1: 100%|█████████████████████████████████████████████| 96/96 [00:01<00:00, 95.17it/s]\n",
            "Round30: User4_1: 100%|█████████████████████████████████████████████| 96/96 [00:01<00:00, 94.82it/s]\n"
          ],
          "name": "stderr"
        },
        {
          "output_type": "stream",
          "text": [
            "client 0: rounds 30's train_acc: 96.68%, train_loss: 0.1137\n",
            "client 1: rounds 30's train_acc: 96.96%, train_loss: 0.1079\n",
            "client 2: rounds 30's train_acc: 96.78%, train_loss: 0.1090\n",
            "client 3: rounds 30's train_acc: 96.57%, train_loss: 0.1160\n",
            "client 4: rounds 30's train_acc: 96.85%, train_loss: 0.1161\n",
            "Train_average accuracy: 96.76875\n"
          ],
          "name": "stdout"
        },
        {
          "output_type": "stream",
          "text": [
            "Round31: User0_1:   9%|████▎                                         | 9/96 [00:00<00:00, 88.22it/s]"
          ],
          "name": "stderr"
        },
        {
          "output_type": "stream",
          "text": [
            "rounds 30's test_acc: 95.58%, test_loss: 0.1536\n"
          ],
          "name": "stdout"
        },
        {
          "output_type": "stream",
          "text": [
            "Round31: User0_1: 100%|█████████████████████████████████████████████| 96/96 [00:01<00:00, 91.15it/s]\n",
            "Round31: User1_1: 100%|█████████████████████████████████████████████| 96/96 [00:01<00:00, 87.95it/s]\n",
            "Round31: User2_1: 100%|█████████████████████████████████████████████| 96/96 [00:01<00:00, 92.43it/s]\n",
            "Round31: User3_1: 100%|█████████████████████████████████████████████| 96/96 [00:01<00:00, 93.91it/s]\n",
            "Round31: User4_1: 100%|█████████████████████████████████████████████| 96/96 [00:01<00:00, 94.39it/s]\n"
          ],
          "name": "stderr"
        },
        {
          "output_type": "stream",
          "text": [
            "client 0: rounds 31's train_acc: 96.83%, train_loss: 0.1094\n",
            "client 1: rounds 31's train_acc: 97.06%, train_loss: 0.1041\n",
            "client 2: rounds 31's train_acc: 96.89%, train_loss: 0.1044\n",
            "client 3: rounds 31's train_acc: 96.71%, train_loss: 0.1121\n",
            "client 4: rounds 31's train_acc: 96.91%, train_loss: 0.1120\n",
            "Train_average accuracy: 96.87916666666666\n"
          ],
          "name": "stdout"
        },
        {
          "output_type": "stream",
          "text": [
            "Round32: User0_1:   8%|███▊                                          | 8/96 [00:00<00:01, 76.90it/s]"
          ],
          "name": "stderr"
        },
        {
          "output_type": "stream",
          "text": [
            "rounds 31's test_acc: 95.67%, test_loss: 0.1491\n"
          ],
          "name": "stdout"
        },
        {
          "output_type": "stream",
          "text": [
            "Round32: User0_1: 100%|█████████████████████████████████████████████| 96/96 [00:01<00:00, 93.36it/s]\n",
            "Round32: User1_1: 100%|█████████████████████████████████████████████| 96/96 [00:01<00:00, 95.66it/s]\n",
            "Round32: User2_1: 100%|█████████████████████████████████████████████| 96/96 [00:00<00:00, 96.63it/s]\n",
            "Round32: User3_1: 100%|█████████████████████████████████████████████| 96/96 [00:01<00:00, 87.68it/s]\n",
            "Round32: User4_1: 100%|█████████████████████████████████████████████| 96/96 [00:00<00:00, 96.02it/s]\n"
          ],
          "name": "stderr"
        },
        {
          "output_type": "stream",
          "text": [
            "client 0: rounds 32's train_acc: 96.85%, train_loss: 0.1090\n",
            "client 1: rounds 32's train_acc: 97.08%, train_loss: 0.1023\n",
            "client 2: rounds 32's train_acc: 96.97%, train_loss: 0.1038\n",
            "client 3: rounds 32's train_acc: 96.81%, train_loss: 0.1093\n",
            "client 4: rounds 32's train_acc: 96.84%, train_loss: 0.1104\n",
            "Train_average accuracy: 96.9125\n"
          ],
          "name": "stdout"
        },
        {
          "output_type": "stream",
          "text": [
            "Round33: User0_1:   9%|████▎                                         | 9/96 [00:00<00:00, 89.11it/s]"
          ],
          "name": "stderr"
        },
        {
          "output_type": "stream",
          "text": [
            "rounds 32's test_acc: 95.72%, test_loss: 0.1485\n"
          ],
          "name": "stdout"
        },
        {
          "output_type": "stream",
          "text": [
            "Round33: User0_1: 100%|█████████████████████████████████████████████| 96/96 [00:01<00:00, 95.23it/s]\n",
            "Round33: User1_1: 100%|█████████████████████████████████████████████| 96/96 [00:01<00:00, 83.82it/s]\n",
            "Round33: User2_1: 100%|█████████████████████████████████████████████| 96/96 [00:01<00:00, 90.44it/s]\n",
            "Round33: User3_1: 100%|█████████████████████████████████████████████| 96/96 [00:01<00:00, 94.10it/s]\n",
            "Round33: User4_1: 100%|█████████████████████████████████████████████| 96/96 [00:00<00:00, 96.37it/s]\n"
          ],
          "name": "stderr"
        },
        {
          "output_type": "stream",
          "text": [
            "client 0: rounds 33's train_acc: 96.96%, train_loss: 0.1058\n",
            "client 1: rounds 33's train_acc: 97.23%, train_loss: 0.0988\n",
            "client 2: rounds 33's train_acc: 96.93%, train_loss: 0.0996\n",
            "client 3: rounds 33's train_acc: 96.78%, train_loss: 0.1075\n",
            "client 4: rounds 33's train_acc: 96.91%, train_loss: 0.1071\n",
            "Train_average accuracy: 96.96041666666666\n"
          ],
          "name": "stdout"
        },
        {
          "output_type": "stream",
          "text": [
            "Round34: User0_1:  10%|████▋                                        | 10/96 [00:00<00:00, 94.27it/s]"
          ],
          "name": "stderr"
        },
        {
          "output_type": "stream",
          "text": [
            "rounds 33's test_acc: 95.82%, test_loss: 0.1469\n"
          ],
          "name": "stdout"
        },
        {
          "output_type": "stream",
          "text": [
            "Round34: User0_1: 100%|█████████████████████████████████████████████| 96/96 [00:01<00:00, 90.12it/s]\n",
            "Round34: User1_1: 100%|█████████████████████████████████████████████| 96/96 [00:01<00:00, 93.32it/s]\n",
            "Round34: User2_1: 100%|█████████████████████████████████████████████| 96/96 [00:01<00:00, 94.78it/s]\n",
            "Round34: User3_1: 100%|█████████████████████████████████████████████| 96/96 [00:01<00:00, 95.73it/s]\n",
            "Round34: User4_1: 100%|█████████████████████████████████████████████| 96/96 [00:01<00:00, 93.94it/s]\n"
          ],
          "name": "stderr"
        },
        {
          "output_type": "stream",
          "text": [
            "client 0: rounds 34's train_acc: 97.05%, train_loss: 0.1045\n",
            "client 1: rounds 34's train_acc: 97.23%, train_loss: 0.0973\n",
            "client 2: rounds 34's train_acc: 97.11%, train_loss: 0.0992\n",
            "client 3: rounds 34's train_acc: 96.98%, train_loss: 0.1064\n",
            "client 4: rounds 34's train_acc: 97.03%, train_loss: 0.1049\n",
            "Train_average accuracy: 97.08125000000001\n"
          ],
          "name": "stdout"
        },
        {
          "output_type": "stream",
          "text": [
            "Round35: User0_1:   9%|████▎                                         | 9/96 [00:00<00:01, 84.62it/s]"
          ],
          "name": "stderr"
        },
        {
          "output_type": "stream",
          "text": [
            "rounds 34's test_acc: 95.88%, test_loss: 0.1446\n"
          ],
          "name": "stdout"
        },
        {
          "output_type": "stream",
          "text": [
            "Round35: User0_1: 100%|█████████████████████████████████████████████| 96/96 [00:01<00:00, 94.30it/s]\n",
            "Round35: User1_1: 100%|█████████████████████████████████████████████| 96/96 [00:01<00:00, 92.82it/s]\n",
            "Round35: User2_1: 100%|█████████████████████████████████████████████| 96/96 [00:01<00:00, 91.40it/s]\n",
            "Round35: User3_1: 100%|█████████████████████████████████████████████| 96/96 [00:01<00:00, 92.02it/s]\n",
            "Round35: User4_1: 100%|█████████████████████████████████████████████| 96/96 [00:01<00:00, 93.88it/s]\n"
          ],
          "name": "stderr"
        },
        {
          "output_type": "stream",
          "text": [
            "client 0: rounds 35's train_acc: 97.02%, train_loss: 0.1024\n",
            "client 1: rounds 35's train_acc: 97.40%, train_loss: 0.0951\n",
            "client 2: rounds 35's train_acc: 97.10%, train_loss: 0.0974\n",
            "client 3: rounds 35's train_acc: 97.03%, train_loss: 0.1033\n",
            "client 4: rounds 35's train_acc: 97.08%, train_loss: 0.1025\n",
            "Train_average accuracy: 97.12708333333333\n"
          ],
          "name": "stdout"
        },
        {
          "output_type": "stream",
          "text": [
            "Round36: User0_1:   9%|████▎                                         | 9/96 [00:00<00:01, 83.76it/s]"
          ],
          "name": "stderr"
        },
        {
          "output_type": "stream",
          "text": [
            "rounds 35's test_acc: 95.83%, test_loss: 0.1445\n"
          ],
          "name": "stdout"
        },
        {
          "output_type": "stream",
          "text": [
            "Round36: User0_1: 100%|█████████████████████████████████████████████| 96/96 [00:01<00:00, 94.94it/s]\n",
            "Round36: User1_1: 100%|█████████████████████████████████████████████| 96/96 [00:01<00:00, 94.78it/s]\n",
            "Round36: User2_1: 100%|█████████████████████████████████████████████| 96/96 [00:01<00:00, 95.66it/s]\n",
            "Round36: User3_1: 100%|█████████████████████████████████████████████| 96/96 [00:01<00:00, 92.35it/s]\n",
            "Round36: User4_1: 100%|█████████████████████████████████████████████| 96/96 [00:01<00:00, 93.67it/s]\n"
          ],
          "name": "stderr"
        },
        {
          "output_type": "stream",
          "text": [
            "client 0: rounds 36's train_acc: 97.05%, train_loss: 0.1012\n",
            "client 1: rounds 36's train_acc: 97.43%, train_loss: 0.0938\n",
            "client 2: rounds 36's train_acc: 97.09%, train_loss: 0.0932\n",
            "client 3: rounds 36's train_acc: 97.07%, train_loss: 0.1021\n",
            "client 4: rounds 36's train_acc: 96.98%, train_loss: 0.1014\n",
            "Train_average accuracy: 97.12500000000001\n"
          ],
          "name": "stdout"
        },
        {
          "output_type": "stream",
          "text": [
            "Round37: User0_1:  10%|████▋                                        | 10/96 [00:00<00:00, 91.81it/s]"
          ],
          "name": "stderr"
        },
        {
          "output_type": "stream",
          "text": [
            "rounds 36's test_acc: 95.84%, test_loss: 0.1436\n"
          ],
          "name": "stdout"
        },
        {
          "output_type": "stream",
          "text": [
            "Round37: User0_1: 100%|█████████████████████████████████████████████| 96/96 [00:01<00:00, 95.77it/s]\n",
            "Round37: User1_1: 100%|█████████████████████████████████████████████| 96/96 [00:01<00:00, 92.46it/s]\n",
            "Round37: User2_1: 100%|█████████████████████████████████████████████| 96/96 [00:01<00:00, 94.51it/s]\n",
            "Round37: User3_1: 100%|█████████████████████████████████████████████| 96/96 [00:01<00:00, 95.01it/s]\n",
            "Round37: User4_1: 100%|█████████████████████████████████████████████| 96/96 [00:01<00:00, 91.71it/s]\n"
          ],
          "name": "stderr"
        },
        {
          "output_type": "stream",
          "text": [
            "client 0: rounds 37's train_acc: 97.14%, train_loss: 0.0975\n",
            "client 1: rounds 37's train_acc: 97.41%, train_loss: 0.0903\n",
            "client 2: rounds 37's train_acc: 97.28%, train_loss: 0.0907\n",
            "client 3: rounds 37's train_acc: 97.12%, train_loss: 0.0980\n",
            "client 4: rounds 37's train_acc: 97.11%, train_loss: 0.0970\n",
            "Train_average accuracy: 97.2125\n"
          ],
          "name": "stdout"
        },
        {
          "output_type": "stream",
          "text": [
            "Round38: User0_1:  10%|████▋                                        | 10/96 [00:00<00:00, 92.74it/s]"
          ],
          "name": "stderr"
        },
        {
          "output_type": "stream",
          "text": [
            "rounds 37's test_acc: 96.03%, test_loss: 0.1412\n"
          ],
          "name": "stdout"
        },
        {
          "output_type": "stream",
          "text": [
            "Round38: User0_1: 100%|█████████████████████████████████████████████| 96/96 [00:00<00:00, 96.13it/s]\n",
            "Round38: User1_1: 100%|█████████████████████████████████████████████| 96/96 [00:01<00:00, 94.96it/s]\n",
            "Round38: User2_1: 100%|█████████████████████████████████████████████| 96/96 [00:01<00:00, 86.96it/s]\n",
            "Round38: User3_1: 100%|█████████████████████████████████████████████| 96/96 [00:01<00:00, 94.79it/s]\n",
            "Round38: User4_1: 100%|█████████████████████████████████████████████| 96/96 [00:00<00:00, 96.17it/s]\n"
          ],
          "name": "stderr"
        },
        {
          "output_type": "stream",
          "text": [
            "client 0: rounds 38's train_acc: 97.29%, train_loss: 0.0956\n",
            "client 1: rounds 38's train_acc: 97.49%, train_loss: 0.0887\n",
            "client 2: rounds 38's train_acc: 97.32%, train_loss: 0.0894\n",
            "client 3: rounds 38's train_acc: 97.25%, train_loss: 0.0974\n",
            "client 4: rounds 38's train_acc: 97.16%, train_loss: 0.0956\n",
            "Train_average accuracy: 97.30208333333334\n"
          ],
          "name": "stdout"
        },
        {
          "output_type": "stream",
          "text": [
            "Round39: User0_1:   3%|█▍                                            | 3/96 [00:00<00:03, 27.98it/s]"
          ],
          "name": "stderr"
        },
        {
          "output_type": "stream",
          "text": [
            "rounds 38's test_acc: 96.04%, test_loss: 0.1393\n"
          ],
          "name": "stdout"
        },
        {
          "output_type": "stream",
          "text": [
            "Round39: User0_1: 100%|█████████████████████████████████████████████| 96/96 [00:01<00:00, 91.50it/s]\n",
            "Round39: User1_1: 100%|█████████████████████████████████████████████| 96/96 [00:00<00:00, 97.53it/s]\n",
            "Round39: User2_1: 100%|█████████████████████████████████████████████| 96/96 [00:01<00:00, 95.17it/s]\n",
            "Round39: User3_1: 100%|█████████████████████████████████████████████| 96/96 [00:01<00:00, 92.57it/s]\n",
            "Round39: User4_1: 100%|█████████████████████████████████████████████| 96/96 [00:01<00:00, 95.53it/s]\n"
          ],
          "name": "stderr"
        },
        {
          "output_type": "stream",
          "text": [
            "client 0: rounds 39's train_acc: 97.20%, train_loss: 0.0934\n",
            "client 1: rounds 39's train_acc: 97.62%, train_loss: 0.0857\n",
            "client 2: rounds 39's train_acc: 97.40%, train_loss: 0.0865\n",
            "client 3: rounds 39's train_acc: 97.28%, train_loss: 0.0932\n",
            "client 4: rounds 39's train_acc: 97.25%, train_loss: 0.0923\n",
            "Train_average accuracy: 97.35\n"
          ],
          "name": "stdout"
        },
        {
          "output_type": "stream",
          "text": [
            "Round40: User0_1:   9%|████▎                                         | 9/96 [00:00<00:00, 87.75it/s]"
          ],
          "name": "stderr"
        },
        {
          "output_type": "stream",
          "text": [
            "rounds 39's test_acc: 95.95%, test_loss: 0.1383\n"
          ],
          "name": "stdout"
        },
        {
          "output_type": "stream",
          "text": [
            "Round40: User0_1: 100%|█████████████████████████████████████████████| 96/96 [00:01<00:00, 95.37it/s]\n",
            "Round40: User1_1: 100%|█████████████████████████████████████████████| 96/96 [00:01<00:00, 94.81it/s]\n",
            "Round40: User2_1: 100%|█████████████████████████████████████████████| 96/96 [00:00<00:00, 97.42it/s]\n",
            "Round40: User3_1: 100%|█████████████████████████████████████████████| 96/96 [00:00<00:00, 96.74it/s]\n",
            "Round40: User4_1: 100%|█████████████████████████████████████████████| 96/96 [00:00<00:00, 97.34it/s]\n"
          ],
          "name": "stderr"
        },
        {
          "output_type": "stream",
          "text": [
            "client 0: rounds 40's train_acc: 97.30%, train_loss: 0.0921\n",
            "client 1: rounds 40's train_acc: 97.68%, train_loss: 0.0851\n",
            "client 2: rounds 40's train_acc: 97.41%, train_loss: 0.0847\n",
            "client 3: rounds 40's train_acc: 97.46%, train_loss: 0.0909\n",
            "client 4: rounds 40's train_acc: 97.43%, train_loss: 0.0901\n",
            "Train_average accuracy: 97.45416666666667\n"
          ],
          "name": "stdout"
        },
        {
          "output_type": "stream",
          "text": [
            "Round41: User0_1:  10%|████▋                                        | 10/96 [00:00<00:00, 94.43it/s]"
          ],
          "name": "stderr"
        },
        {
          "output_type": "stream",
          "text": [
            "rounds 40's test_acc: 95.94%, test_loss: 0.1387\n"
          ],
          "name": "stdout"
        },
        {
          "output_type": "stream",
          "text": [
            "Round41: User0_1: 100%|█████████████████████████████████████████████| 96/96 [00:01<00:00, 93.19it/s]\n",
            "Round41: User1_1: 100%|█████████████████████████████████████████████| 96/96 [00:01<00:00, 95.77it/s]\n",
            "Round41: User2_1: 100%|█████████████████████████████████████████████| 96/96 [00:01<00:00, 95.25it/s]\n",
            "Round41: User3_1: 100%|█████████████████████████████████████████████| 96/96 [00:01<00:00, 95.54it/s]\n",
            "Round41: User4_1: 100%|█████████████████████████████████████████████| 96/96 [00:00<00:00, 96.75it/s]\n"
          ],
          "name": "stderr"
        },
        {
          "output_type": "stream",
          "text": [
            "client 0: rounds 41's train_acc: 97.26%, train_loss: 0.0914\n",
            "client 1: rounds 41's train_acc: 97.66%, train_loss: 0.0851\n",
            "client 2: rounds 41's train_acc: 97.54%, train_loss: 0.0855\n",
            "client 3: rounds 41's train_acc: 97.34%, train_loss: 0.0932\n",
            "client 4: rounds 41's train_acc: 97.49%, train_loss: 0.0907\n",
            "Train_average accuracy: 97.45833333333334\n"
          ],
          "name": "stdout"
        },
        {
          "output_type": "stream",
          "text": [
            "Round42: User0_1:  10%|████▋                                        | 10/96 [00:00<00:00, 95.60it/s]"
          ],
          "name": "stderr"
        },
        {
          "output_type": "stream",
          "text": [
            "rounds 41's test_acc: 95.88%, test_loss: 0.1401\n"
          ],
          "name": "stdout"
        },
        {
          "output_type": "stream",
          "text": [
            "Round42: User0_1: 100%|█████████████████████████████████████████████| 96/96 [00:01<00:00, 92.82it/s]\n",
            "Round42: User1_1: 100%|█████████████████████████████████████████████| 96/96 [00:00<00:00, 97.15it/s]\n",
            "Round42: User2_1: 100%|█████████████████████████████████████████████| 96/96 [00:01<00:00, 94.90it/s]\n",
            "Round42: User3_1: 100%|█████████████████████████████████████████████| 96/96 [00:01<00:00, 93.66it/s]\n",
            "Round42: User4_1: 100%|█████████████████████████████████████████████| 96/96 [00:01<00:00, 94.74it/s]\n"
          ],
          "name": "stderr"
        },
        {
          "output_type": "stream",
          "text": [
            "client 0: rounds 42's train_acc: 97.48%, train_loss: 0.0877\n",
            "client 1: rounds 42's train_acc: 97.69%, train_loss: 0.0809\n",
            "client 2: rounds 42's train_acc: 97.65%, train_loss: 0.0814\n",
            "client 3: rounds 42's train_acc: 97.60%, train_loss: 0.0867\n",
            "client 4: rounds 42's train_acc: 97.54%, train_loss: 0.0857\n",
            "Train_average accuracy: 97.59166666666667\n"
          ],
          "name": "stdout"
        },
        {
          "output_type": "stream",
          "text": [
            "Round43: User0_1:   9%|████▎                                         | 9/96 [00:00<00:00, 87.59it/s]"
          ],
          "name": "stderr"
        },
        {
          "output_type": "stream",
          "text": [
            "rounds 42's test_acc: 96.09%, test_loss: 0.1357\n"
          ],
          "name": "stdout"
        },
        {
          "output_type": "stream",
          "text": [
            "Round43: User0_1: 100%|█████████████████████████████████████████████| 96/96 [00:01<00:00, 91.17it/s]\n",
            "Round43: User1_1: 100%|█████████████████████████████████████████████| 96/96 [00:01<00:00, 94.56it/s]\n",
            "Round43: User2_1: 100%|█████████████████████████████████████████████| 96/96 [00:01<00:00, 90.27it/s]\n",
            "Round43: User3_1: 100%|█████████████████████████████████████████████| 96/96 [00:01<00:00, 86.82it/s]\n",
            "Round43: User4_1: 100%|█████████████████████████████████████████████| 96/96 [00:01<00:00, 94.88it/s]\n"
          ],
          "name": "stderr"
        },
        {
          "output_type": "stream",
          "text": [
            "client 0: rounds 43's train_acc: 97.51%, train_loss: 0.0883\n",
            "client 1: rounds 43's train_acc: 97.72%, train_loss: 0.0812\n",
            "client 2: rounds 43's train_acc: 97.60%, train_loss: 0.0817\n",
            "client 3: rounds 43's train_acc: 97.39%, train_loss: 0.0880\n",
            "client 4: rounds 43's train_acc: 97.48%, train_loss: 0.0851\n",
            "Train_average accuracy: 97.53958333333335\n"
          ],
          "name": "stdout"
        },
        {
          "output_type": "stream",
          "text": [
            "Round44: User0_1:  10%|████▋                                        | 10/96 [00:00<00:00, 92.86it/s]"
          ],
          "name": "stderr"
        },
        {
          "output_type": "stream",
          "text": [
            "rounds 43's test_acc: 96.05%, test_loss: 0.1362\n"
          ],
          "name": "stdout"
        },
        {
          "output_type": "stream",
          "text": [
            "Round44: User0_1: 100%|█████████████████████████████████████████████| 96/96 [00:01<00:00, 95.27it/s]\n",
            "Round44: User1_1: 100%|█████████████████████████████████████████████| 96/96 [00:01<00:00, 87.34it/s]\n",
            "Round44: User2_1: 100%|█████████████████████████████████████████████| 96/96 [00:01<00:00, 95.60it/s]\n",
            "Round44: User3_1: 100%|█████████████████████████████████████████████| 96/96 [00:00<00:00, 96.35it/s]\n",
            "Round44: User4_1: 100%|█████████████████████████████████████████████| 96/96 [00:00<00:00, 97.06it/s]\n"
          ],
          "name": "stderr"
        },
        {
          "output_type": "stream",
          "text": [
            "client 0: rounds 44's train_acc: 97.46%, train_loss: 0.0869\n",
            "client 1: rounds 44's train_acc: 97.72%, train_loss: 0.0792\n",
            "client 2: rounds 44's train_acc: 97.74%, train_loss: 0.0778\n",
            "client 3: rounds 44's train_acc: 97.54%, train_loss: 0.0857\n",
            "client 4: rounds 44's train_acc: 97.58%, train_loss: 0.0839\n",
            "Train_average accuracy: 97.60833333333333\n"
          ],
          "name": "stdout"
        },
        {
          "output_type": "stream",
          "text": [
            "Round45: User0_1:   3%|█▍                                            | 3/96 [00:00<00:03, 29.90it/s]"
          ],
          "name": "stderr"
        },
        {
          "output_type": "stream",
          "text": [
            "rounds 44's test_acc: 96.06%, test_loss: 0.1367\n"
          ],
          "name": "stdout"
        },
        {
          "output_type": "stream",
          "text": [
            "Round45: User0_1: 100%|█████████████████████████████████████████████| 96/96 [00:01<00:00, 91.06it/s]\n",
            "Round45: User1_1: 100%|█████████████████████████████████████████████| 96/96 [00:01<00:00, 86.55it/s]\n",
            "Round45: User2_1: 100%|█████████████████████████████████████████████| 96/96 [00:01<00:00, 94.21it/s]\n",
            "Round45: User3_1: 100%|█████████████████████████████████████████████| 96/96 [00:01<00:00, 80.98it/s]\n",
            "Round45: User4_1: 100%|█████████████████████████████████████████████| 96/96 [00:01<00:00, 94.16it/s]\n"
          ],
          "name": "stderr"
        },
        {
          "output_type": "stream",
          "text": [
            "client 0: rounds 45's train_acc: 97.58%, train_loss: 0.0843\n",
            "client 1: rounds 45's train_acc: 97.80%, train_loss: 0.0766\n",
            "client 2: rounds 45's train_acc: 97.71%, train_loss: 0.0779\n",
            "client 3: rounds 45's train_acc: 97.65%, train_loss: 0.0833\n",
            "client 4: rounds 45's train_acc: 97.57%, train_loss: 0.0825\n",
            "Train_average accuracy: 97.6625\n"
          ],
          "name": "stdout"
        },
        {
          "output_type": "stream",
          "text": [
            "Round46: User0_1:  10%|████▋                                        | 10/96 [00:00<00:00, 95.84it/s]"
          ],
          "name": "stderr"
        },
        {
          "output_type": "stream",
          "text": [
            "rounds 45's test_acc: 96.05%, test_loss: 0.1368\n"
          ],
          "name": "stdout"
        },
        {
          "output_type": "stream",
          "text": [
            "Round46: User0_1: 100%|█████████████████████████████████████████████| 96/96 [00:00<00:00, 96.14it/s]\n",
            "Round46: User1_1: 100%|█████████████████████████████████████████████| 96/96 [00:00<00:00, 96.26it/s]\n",
            "Round46: User2_1: 100%|█████████████████████████████████████████████| 96/96 [00:01<00:00, 95.83it/s]\n",
            "Round46: User3_1: 100%|█████████████████████████████████████████████| 96/96 [00:01<00:00, 93.53it/s]\n",
            "Round46: User4_1: 100%|█████████████████████████████████████████████| 96/96 [00:01<00:00, 87.69it/s]\n"
          ],
          "name": "stderr"
        },
        {
          "output_type": "stream",
          "text": [
            "client 0: rounds 46's train_acc: 97.54%, train_loss: 0.0831\n",
            "client 1: rounds 46's train_acc: 97.80%, train_loss: 0.0762\n",
            "client 2: rounds 46's train_acc: 97.80%, train_loss: 0.0760\n",
            "client 3: rounds 46's train_acc: 97.79%, train_loss: 0.0817\n",
            "client 4: rounds 46's train_acc: 97.67%, train_loss: 0.0793\n",
            "Train_average accuracy: 97.72083333333333\n"
          ],
          "name": "stdout"
        },
        {
          "output_type": "stream",
          "text": [
            "Round47: User0_1:  10%|████▋                                        | 10/96 [00:00<00:00, 94.38it/s]"
          ],
          "name": "stderr"
        },
        {
          "output_type": "stream",
          "text": [
            "rounds 46's test_acc: 96.12%, test_loss: 0.1342\n"
          ],
          "name": "stdout"
        },
        {
          "output_type": "stream",
          "text": [
            "Round47: User0_1: 100%|█████████████████████████████████████████████| 96/96 [00:01<00:00, 93.45it/s]\n",
            "Round47: User1_1: 100%|█████████████████████████████████████████████| 96/96 [00:01<00:00, 94.62it/s]\n",
            "Round47: User2_1: 100%|█████████████████████████████████████████████| 96/96 [00:00<00:00, 96.29it/s]\n",
            "Round47: User3_1: 100%|█████████████████████████████████████████████| 96/96 [00:00<00:00, 96.97it/s]\n",
            "Round47: User4_1: 100%|█████████████████████████████████████████████| 96/96 [00:01<00:00, 93.45it/s]\n"
          ],
          "name": "stderr"
        },
        {
          "output_type": "stream",
          "text": [
            "client 0: rounds 47's train_acc: 97.49%, train_loss: 0.0846\n",
            "client 1: rounds 47's train_acc: 97.67%, train_loss: 0.0770\n",
            "client 2: rounds 47's train_acc: 97.83%, train_loss: 0.0751\n",
            "client 3: rounds 47's train_acc: 97.56%, train_loss: 0.0832\n",
            "client 4: rounds 47's train_acc: 97.49%, train_loss: 0.0807\n",
            "Train_average accuracy: 97.60833333333333\n"
          ],
          "name": "stdout"
        },
        {
          "output_type": "stream",
          "text": [
            "Round48: User0_1:  10%|████▋                                        | 10/96 [00:00<00:00, 93.43it/s]"
          ],
          "name": "stderr"
        },
        {
          "output_type": "stream",
          "text": [
            "rounds 47's test_acc: 96.12%, test_loss: 0.1364\n"
          ],
          "name": "stdout"
        },
        {
          "output_type": "stream",
          "text": [
            "Round48: User0_1: 100%|█████████████████████████████████████████████| 96/96 [00:00<00:00, 96.58it/s]\n",
            "Round48: User1_1: 100%|█████████████████████████████████████████████| 96/96 [00:01<00:00, 95.39it/s]\n",
            "Round48: User2_1: 100%|█████████████████████████████████████████████| 96/96 [00:01<00:00, 92.71it/s]\n",
            "Round48: User3_1: 100%|█████████████████████████████████████████████| 96/96 [00:01<00:00, 90.94it/s]\n",
            "Round48: User4_1: 100%|█████████████████████████████████████████████| 96/96 [00:01<00:00, 84.69it/s]\n"
          ],
          "name": "stderr"
        },
        {
          "output_type": "stream",
          "text": [
            "client 0: rounds 48's train_acc: 97.62%, train_loss: 0.0812\n",
            "client 1: rounds 48's train_acc: 97.89%, train_loss: 0.0744\n",
            "client 2: rounds 48's train_acc: 97.85%, train_loss: 0.0727\n",
            "client 3: rounds 48's train_acc: 97.85%, train_loss: 0.0787\n",
            "client 4: rounds 48's train_acc: 97.66%, train_loss: 0.0773\n",
            "Train_average accuracy: 97.775\n"
          ],
          "name": "stdout"
        },
        {
          "output_type": "stream",
          "text": [
            "Round49: User0_1:  10%|████▋                                        | 10/96 [00:00<00:00, 92.17it/s]"
          ],
          "name": "stderr"
        },
        {
          "output_type": "stream",
          "text": [
            "rounds 48's test_acc: 96.12%, test_loss: 0.1351\n"
          ],
          "name": "stdout"
        },
        {
          "output_type": "stream",
          "text": [
            "Round49: User0_1: 100%|█████████████████████████████████████████████| 96/96 [00:01<00:00, 95.54it/s]\n",
            "Round49: User1_1: 100%|█████████████████████████████████████████████| 96/96 [00:01<00:00, 93.35it/s]\n",
            "Round49: User2_1: 100%|█████████████████████████████████████████████| 96/96 [00:01<00:00, 81.48it/s]\n",
            "Round49: User3_1: 100%|█████████████████████████████████████████████| 96/96 [00:01<00:00, 87.27it/s]\n",
            "Round49: User4_1: 100%|█████████████████████████████████████████████| 96/96 [00:01<00:00, 93.45it/s]\n"
          ],
          "name": "stderr"
        },
        {
          "output_type": "stream",
          "text": [
            "client 0: rounds 49's train_acc: 97.69%, train_loss: 0.0786\n",
            "client 1: rounds 49's train_acc: 97.88%, train_loss: 0.0716\n",
            "client 2: rounds 49's train_acc: 97.83%, train_loss: 0.0724\n",
            "client 3: rounds 49's train_acc: 97.79%, train_loss: 0.0773\n",
            "client 4: rounds 49's train_acc: 97.79%, train_loss: 0.0757\n",
            "Train_average accuracy: 97.79583333333335\n"
          ],
          "name": "stdout"
        },
        {
          "output_type": "stream",
          "text": [
            "Round50: User0_1:  10%|████▋                                        | 10/96 [00:00<00:00, 88.48it/s]"
          ],
          "name": "stderr"
        },
        {
          "output_type": "stream",
          "text": [
            "rounds 49's test_acc: 96.16%, test_loss: 0.1338\n"
          ],
          "name": "stdout"
        },
        {
          "output_type": "stream",
          "text": [
            "Round50: User0_1: 100%|█████████████████████████████████████████████| 96/96 [00:01<00:00, 93.32it/s]\n",
            "Round50: User1_1: 100%|█████████████████████████████████████████████| 96/96 [00:01<00:00, 88.81it/s]\n",
            "Round50: User2_1: 100%|█████████████████████████████████████████████| 96/96 [00:01<00:00, 92.75it/s]\n",
            "Round50: User3_1: 100%|█████████████████████████████████████████████| 96/96 [00:00<00:00, 98.18it/s]\n",
            "Round50: User4_1: 100%|█████████████████████████████████████████████| 96/96 [00:01<00:00, 94.25it/s]\n"
          ],
          "name": "stderr"
        },
        {
          "output_type": "stream",
          "text": [
            "client 0: rounds 50's train_acc: 97.69%, train_loss: 0.0758\n",
            "client 1: rounds 50's train_acc: 97.93%, train_loss: 0.0690\n",
            "client 2: rounds 50's train_acc: 98.11%, train_loss: 0.0690\n",
            "client 3: rounds 50's train_acc: 98.07%, train_loss: 0.0744\n",
            "client 4: rounds 50's train_acc: 97.76%, train_loss: 0.0727\n",
            "Train_average accuracy: 97.9125\n",
            "rounds 50's test_acc: 96.22%, test_loss: 0.1316\n",
            "TrainingTime: 520.3024413585663 sec\n"
          ],
          "name": "stdout"
        }
      ]
    },
    {
      "cell_type": "code",
      "metadata": {
        "id": "O0-m3d2Zz3Fw",
        "colab": {
          "base_uri": "https://localhost:8080/"
        },
        "outputId": "293cc31f-160c-4738-ad64-a4e9c664a700"
      },
      "source": [
        "print(\"training accuracy :\")\n",
        "print(train_acc_average)\n",
        "print(\"testing accuracy: \")\n",
        "print(val_acc)\n",
        "\n"
      ],
      "execution_count": null,
      "outputs": [
        {
          "output_type": "stream",
          "text": [
            "training accuracy :\n",
            "[77.67291666666667, 87.78958333333334, 89.69999999999999, 90.64375, 91.25625000000001, 92.00208333333333, 92.38125, 92.89999999999999, 93.21041666666667, 93.65416666666667, 93.94166666666668, 94.08541666666666, 94.45625, 94.63750000000002, 94.86666666666666, 95.15625, 95.31458333333335, 95.30833333333334, 95.65833333333332, 95.75625, 95.84791666666666, 95.94791666666666, 96.06458333333335, 96.26875, 96.30416666666666, 96.49791666666667, 96.41041666666666, 96.625, 96.72708333333334, 96.76875, 96.87916666666666, 96.9125, 96.96041666666666, 97.08125000000001, 97.12708333333333, 97.12500000000001, 97.2125, 97.30208333333334, 97.35, 97.45416666666667, 97.45833333333334, 97.59166666666667, 97.53958333333335, 97.60833333333333, 97.6625, 97.72083333333333, 97.60833333333333, 97.775, 97.79583333333335, 97.9125]\n",
            "testing accuracy: \n",
            "[78.16666666666666, 87.64999999999999, 89.70833333333333, 90.425, 90.9, 91.675, 91.99166666666667, 92.46666666666667, 92.81666666666666, 93.20833333333334, 93.40833333333333, 93.69166666666666, 93.81666666666668, 93.975, 94.25833333333333, 94.475, 94.61666666666667, 94.72500000000001, 95.025, 94.975, 95.175, 95.19999999999999, 95.24166666666667, 95.35833333333333, 95.39166666666667, 95.475, 95.40833333333333, 95.65833333333333, 95.70833333333333, 95.575, 95.66666666666667, 95.71666666666667, 95.81666666666668, 95.875, 95.83333333333334, 95.84166666666667, 96.03333333333333, 96.04166666666667, 95.95, 95.94166666666666, 95.88333333333333, 96.09166666666667, 96.05, 96.05833333333334, 96.05, 96.125, 96.125, 96.11666666666666, 96.15833333333333, 96.21666666666667]\n"
          ],
          "name": "stdout"
        }
      ]
    },
    {
      "cell_type": "code",
      "metadata": {
        "id": "zPCCaHRuPP3U"
      },
      "source": [
        ""
      ],
      "execution_count": null,
      "outputs": []
    },
    {
      "cell_type": "markdown",
      "metadata": {
        "id": "hc1_SDjLPPD-"
      },
      "source": [
        "# class recall\n",
        "\n",
        "\n"
      ]
    },
    {
      "cell_type": "markdown",
      "metadata": {
        "id": "4Qk7F3cmdltY"
      },
      "source": [
        "below is the code to calculate the class recall\n"
      ]
    },
    {
      "cell_type": "code",
      "metadata": {
        "colab": {
          "base_uri": "https://localhost:8080/"
        },
        "id": "z-HUAXXBRuep",
        "outputId": "c09d5166-cf56-4c0a-8a06-acaa721b9927"
      },
      "source": [
        "mnist_client.load_state_dict(global_client_weights)\n",
        "mnist_server.load_state_dict(global_server_weights)\n",
        "mnist_client.eval()\n",
        "mnist_server.eval()\n",
        "\n",
        "test_loss     = 0.0\n",
        "class_correct = [0]*10\n",
        "class_total   = [0]*10\n",
        "\n",
        "\n",
        "# For generating confusion matrix\n",
        "conf_matrix = np.zeros((10,10))\n",
        "\n",
        "\n",
        "with torch.no_grad():\n",
        "  corr_num = 0\n",
        "  total_num = 0\n",
        "  val_loss = 0.0\n",
        "  for j, val in enumerate(test_loader):\n",
        "      val_x, val_label = val\n",
        "      \n",
        "      data   = val_x\n",
        "      target = val_label\n",
        "      \n",
        "      data   = data.to(device)\n",
        "      # target = target.clone().detach().long().to(device)\n",
        "      target = target.to(device)\n",
        "      \n",
        "      output = mnist_client(data)\n",
        "      output = mnist_server(output)\n",
        "\n",
        "      \n",
        "      # loss = criterion(val_output, val_label)\n",
        "      loss = criterion(output, target)\n",
        "      \n",
        "      # val_loss += loss.item()\n",
        "\n",
        "      test_loss += loss.item()*data.size(0)\n",
        "\n",
        "      _, pred = torch.max(output,1)\n",
        "      # compare predictions to true label\n",
        "      correct_tensor = pred.eq(target.data.view_as(pred))\n",
        "      correct = np.squeeze(correct_tensor.numpy()) if device == \"cpu\" else np.squeeze(correct_tensor.cpu().numpy())\n",
        "      # calculate test accuracy for each object class\n",
        "      for i in range(target.size(0)):\n",
        "        label = target.data[i]\n",
        "        class_correct[label] += correct[i].item()\n",
        "        class_total[label] += 1\n",
        "        # Update confusion matrix\n",
        "        conf_matrix[label][pred.data[i]] += 1\n",
        "\n",
        "\n",
        "# average test loss\n",
        "test_loss = test_loss/len(test_loader.dataset)\n",
        "print('Test Loss: {:.6f}\\n'.format(test_loss))\n",
        "\n",
        "for i in range(10):\n",
        "    if class_total[i] > 0:\n",
        "        print('Test Accuracy of %3s: %2d%% (%2d/%2d)' % (\n",
        "            i, 100 * class_correct[i] / class_total[i],\n",
        "            np.sum(class_correct[i]), np.sum(class_total[i])))\n",
        "    else:\n",
        "        print('Test Accuracy of %3s: N/A (no training examples)' % (classes[i]))\n",
        "\n",
        "print('\\nTest Accuracy (Overall): %2d%% (%2d/%2d)' % (\n",
        "    100. * np.sum(class_correct) / np.sum(class_total),\n",
        "    np.sum(class_correct), np.sum(class_total)))\n",
        "\n",
        "\n",
        "\n"
      ],
      "execution_count": null,
      "outputs": [
        {
          "output_type": "stream",
          "text": [
            "Test Loss: 0.026329\n",
            "\n",
            "Test Accuracy of   0: 98% (1172/1190)\n",
            "Test Accuracy of   1: 97% (1350/1380)\n",
            "Test Accuracy of   2: 96% (1100/1144)\n",
            "Test Accuracy of   3: 95% (1123/1175)\n",
            "Test Accuracy of   4: 96% (1099/1139)\n",
            "Test Accuracy of   5: 94% (1056/1119)\n",
            "Test Accuracy of   6: 97% (1184/1210)\n",
            "Test Accuracy of   7: 95% (1186/1245)\n",
            "Test Accuracy of   8: 93% (1134/1209)\n",
            "Test Accuracy of   9: 96% (1142/1189)\n",
            "\n",
            "Test Accuracy (Overall): 96% (11546/12000)\n"
          ],
          "name": "stdout"
        }
      ]
    },
    {
      "cell_type": "code",
      "metadata": {
        "colab": {
          "base_uri": "https://localhost:8080/",
          "height": 265
        },
        "id": "CZwcZAqwPvkh",
        "outputId": "cb41a197-ca7b-41d2-e203-0cccede758b6"
      },
      "source": [
        "import matplotlib.pyplot as plt\n",
        "import numpy as np\n",
        "\n",
        "\n",
        "test = np.array(train_acc_average)\n",
        "\n",
        "\n",
        "# ypoints = np.array([3, 8, 1, 10])\n",
        "\n",
        "\n",
        "ypoints = test\n",
        "\n",
        "plt.plot(ypoints, marker = 'o')\n",
        "plt.show()\n",
        "\n",
        "\n"
      ],
      "execution_count": null,
      "outputs": [
        {
          "output_type": "display_data",
          "data": {
            "image/png": "[encoded data removed]",
            "text/plain": [
              "<Figure size 432x288 with 1 Axes>"
            ]
          },
          "metadata": {
            "tags": []
          }
        }
      ]
    },
    {
      "cell_type": "code",
      "metadata": {
        "colab": {
          "base_uri": "https://localhost:8080/",
          "height": 265
        },
        "id": "T82GU7PSP9so",
        "outputId": "9f0920a2-449c-45eb-e4c8-2277763e3793"
      },
      "source": [
        "import matplotlib.pyplot as plt\n",
        "import numpy as np\n",
        "\n",
        "\n",
        "test = np.array(val_acc)\n",
        "\n",
        "\n",
        "# ypoints = np.array([3, 8, 1, 10])\n",
        "\n",
        "\n",
        "ypoints = test\n",
        "\n",
        "plt.plot(ypoints, marker = 'o')\n",
        "plt.show()\n",
        "\n",
        "\n"
      ],
      "execution_count": null,
      "outputs": [
        {
          "output_type": "display_data",
          "data": {
            "image/png": "[encoded data removed]",
            "text/plain": [
              "<Figure size 432x288 with 1 Axes>"
            ]
          },
          "metadata": {
            "tags": []
          }
        }
      ]
    },
    {
      "cell_type": "code",
      "metadata": {
        "id": "1Gsbm19vQC3s"
      },
      "source": [
        ""
      ],
      "execution_count": null,
      "outputs": []
    }
  ]
}